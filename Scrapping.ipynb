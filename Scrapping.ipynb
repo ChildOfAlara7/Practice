{
 "cells": [
  {
   "cell_type": "code",
   "execution_count": 157,
   "metadata": {},
   "outputs": [],
   "source": [
    "import requests as r\n",
    "from bs4 import BeautifulSoup as bs"
   ]
  },
  {
   "cell_type": "code",
   "execution_count": 2,
   "metadata": {},
   "outputs": [],
   "source": [
    "from selenium.webdriver import Chrome\n",
    "browser = Chrome()\n",
    "browser.get('https://www.ikea.com/ru/ru/')"
   ]
  },
  {
   "cell_type": "code",
   "execution_count": 158,
   "metadata": {},
   "outputs": [],
   "source": [
    "response = r.get('https://www.ikea.com/ru/ru/cat/kresla-fu006/')"
   ]
  },
  {
   "cell_type": "code",
   "execution_count": 159,
   "metadata": {
    "scrolled": false
   },
   "outputs": [
    {
     "data": {
      "text/plain": [
       "200"
      ]
     },
     "execution_count": 159,
     "metadata": {},
     "output_type": "execute_result"
    }
   ],
   "source": [
    "response.status_code"
   ]
  },
  {
   "cell_type": "code",
   "execution_count": 4,
   "metadata": {},
   "outputs": [],
   "source": [
    "#response.text"
   ]
  },
  {
   "cell_type": "code",
   "execution_count": 160,
   "metadata": {
    "scrolled": false
   },
   "outputs": [],
   "source": [
    "with open ('ikea_chairs.html', 'wt', encoding = \"utf-8\") as f:\n",
    "    f.write(response.text)"
   ]
  },
  {
   "cell_type": "code",
   "execution_count": 6,
   "metadata": {},
   "outputs": [],
   "source": [
    "soup = bs(response.text, 'lxml')"
   ]
  },
  {
   "cell_type": "code",
   "execution_count": 7,
   "metadata": {
    "scrolled": true
   },
   "outputs": [
    {
     "data": {
      "text/plain": [
       "24"
      ]
     },
     "execution_count": 7,
     "metadata": {},
     "output_type": "execute_result"
    }
   ],
   "source": [
    "products = soup.findAll(attrs={\"class\": \"range-revamp-product-compact\"})\n",
    "len(products)"
   ]
  },
  {
   "cell_type": "code",
   "execution_count": 153,
   "metadata": {},
   "outputs": [],
   "source": [
    "link = []\n",
    "title = []\n",
    "price = []\n",
    "img = []\n",
    "database = []\n",
    "\n",
    "for p in products:\n",
    "    for title in p.find_all('a'):\n",
    "        title = p.attrs['data-product-name']\n",
    "    \n",
    "    for link in p.find_all('a'):\n",
    "        link = link.get('href')\n",
    "        \n",
    "    for price in p.find_all('a'):\n",
    "        price = p.attrs['data-price'] +str(' ')+ first.attrs['data-currency']\n",
    "    \n",
    "    for img in p:\n",
    "        img = products[0].find_all('img')\n",
    "        img = img[0].attrs['srcset'].split()[0]\n",
    "        \n",
    "    database.append({'title': title, 'link': link, 'price': price, 'img': img\n",
    "    })"
   ]
  },
  {
   "cell_type": "code",
   "execution_count": 154,
   "metadata": {},
   "outputs": [
    {
     "data": {
      "text/plain": [
       "[{'title': 'POÄNG ПОЭНГ',\n",
       "  'link': 'https://www.ikea.com/ru/ru/p/poeng-kreslo-dubovyy-shpon-belenyy-shiftebu-bezhevyy-s99398317/',\n",
       "  'price': '6999 RUB',\n",
       "  'img': 'https://www.ikea.com/ru/ru/images/products/poaeng-poeng-kreslo-dubovyy-shpon-belenyy-shiftebu-bezhevyy__0940479_PE795027_S5.JPG?f=g'},\n",
       " {'title': 'STRANDMON СТРАНДМОН',\n",
       "  'link': 'https://www.ikea.com/ru/ru/p/strandmon-kreslo-s-podgolovnikom-shiftebu-zheltyy-80419942/',\n",
       "  'price': '12999 RUB',\n",
       "  'img': 'https://www.ikea.com/ru/ru/images/products/poaeng-poeng-kreslo-dubovyy-shpon-belenyy-shiftebu-bezhevyy__0940479_PE795027_S5.JPG?f=g'},\n",
       " {'title': 'NOLMYRA НОЛЬМИРА',\n",
       "  'link': 'https://www.ikea.com/ru/ru/p/nolmira-kreslo-berezovyy-shpon-seryy-30384186/',\n",
       "  'price': '2999 RUB',\n",
       "  'img': 'https://www.ikea.com/ru/ru/images/products/poaeng-poeng-kreslo-dubovyy-shpon-belenyy-shiftebu-bezhevyy__0940479_PE795027_S5.JPG?f=g'},\n",
       " {'title': 'POÄNG ПОЭНГ',\n",
       "  'link': 'https://www.ikea.com/ru/ru/p/poeng-kreslo-kachalka-cherno-korichnevyy-shiftebu-temno-seryy-s69302825/',\n",
       "  'price': '9999 RUB',\n",
       "  'img': 'https://www.ikea.com/ru/ru/images/products/poaeng-poeng-kreslo-dubovyy-shpon-belenyy-shiftebu-bezhevyy__0940479_PE795027_S5.JPG?f=g'},\n",
       " {'title': 'AGEN АГЕН',\n",
       "  'link': 'https://www.ikea.com/ru/ru/p/agen-kreslo-rotang-bambuk-90388313/',\n",
       "  'price': '3999 RUB',\n",
       "  'img': 'https://www.ikea.com/ru/ru/images/products/poaeng-poeng-kreslo-dubovyy-shpon-belenyy-shiftebu-bezhevyy__0940479_PE795027_S5.JPG?f=g'},\n",
       " {'title': 'VEDBO ВЕДБУ',\n",
       "  'link': 'https://www.ikea.com/ru/ru/p/vedbu-kreslo-c-vysokoy-spinkoy-gunnared-svetlyy-korichnevo-rozovyy-30423593/',\n",
       "  'price': '15999 RUB',\n",
       "  'img': 'https://www.ikea.com/ru/ru/images/products/poaeng-poeng-kreslo-dubovyy-shpon-belenyy-shiftebu-bezhevyy__0940479_PE795027_S5.JPG?f=g'},\n",
       " {'title': 'POÄNG ПОЭНГ',\n",
       "  'link': 'https://www.ikea.com/ru/ru/p/poeng-kreslo-berezovyy-shpon-shiftebu-bezhevyy-s99302796/',\n",
       "  'price': '6999 RUB',\n",
       "  'img': 'https://www.ikea.com/ru/ru/images/products/poaeng-poeng-kreslo-dubovyy-shpon-belenyy-shiftebu-bezhevyy__0940479_PE795027_S5.JPG?f=g'},\n",
       " {'title': 'TULLSTA ТУЛЬСТА',\n",
       "  'link': 'https://www.ikea.com/ru/ru/p/tulsta-kreslo-knisa-seryy-40485415/',\n",
       "  'price': '9999 RUB',\n",
       "  'img': 'https://www.ikea.com/ru/ru/images/products/poaeng-poeng-kreslo-dubovyy-shpon-belenyy-shiftebu-bezhevyy__0940479_PE795027_S5.JPG?f=g'},\n",
       " {'title': 'STRANDMON СТРАНДМОН',\n",
       "  'link': 'https://www.ikea.com/ru/ru/p/strandmon-kreslo-s-podgolovnikom-shiftebu-bezhevyy-70419886/',\n",
       "  'price': '12999 RUB',\n",
       "  'img': 'https://www.ikea.com/ru/ru/images/products/poaeng-poeng-kreslo-dubovyy-shpon-belenyy-shiftebu-bezhevyy__0940479_PE795027_S5.JPG?f=g'},\n",
       " {'title': 'LYCKSELE ЛИКСЕЛЕ',\n",
       "  'link': 'https://www.ikea.com/ru/ru/p/liksele-kreslo-krovat-shiftebu-temno-seryy-s59387801/',\n",
       "  'price': '12999 RUB',\n",
       "  'img': 'https://www.ikea.com/ru/ru/images/products/poaeng-poeng-kreslo-dubovyy-shpon-belenyy-shiftebu-bezhevyy__0940479_PE795027_S5.JPG?f=g'},\n",
       " {'title': 'STRANDMON СТРАНДМОН',\n",
       "  'link': 'https://www.ikea.com/ru/ru/p/strandmon-kreslo-s-podgolovnikom-shiftebu-temno-siniy-50419887/',\n",
       "  'price': '12999 RUB',\n",
       "  'img': 'https://www.ikea.com/ru/ru/images/products/poaeng-poeng-kreslo-dubovyy-shpon-belenyy-shiftebu-bezhevyy__0940479_PE795027_S5.JPG?f=g'},\n",
       " {'title': 'POÄNG ПОЭНГ',\n",
       "  'link': 'https://www.ikea.com/ru/ru/p/poeng-kreslo-detskoe-berezovyy-shpon-almos-bezhevyy-s79337947/',\n",
       "  'price': '2999 RUB',\n",
       "  'img': 'https://www.ikea.com/ru/ru/images/products/poaeng-poeng-kreslo-dubovyy-shpon-belenyy-shiftebu-bezhevyy__0940479_PE795027_S5.JPG?f=g'},\n",
       " {'title': 'STRANDMON СТРАНДМОН',\n",
       "  'link': 'https://www.ikea.com/ru/ru/p/strandmon-kreslo-s-podgolovnikom-shiftebu-temno-seryy-20419884/',\n",
       "  'price': '12999 RUB',\n",
       "  'img': 'https://www.ikea.com/ru/ru/images/products/poaeng-poeng-kreslo-dubovyy-shpon-belenyy-shiftebu-bezhevyy__0940479_PE795027_S5.JPG?f=g'},\n",
       " {'title': 'VEDBO ВЕДБУ',\n",
       "  'link': 'https://www.ikea.com/ru/ru/p/vedbu-kreslo-gunnared-svetlyy-korichnevo-rozovyy-60423582/',\n",
       "  'price': '10999 RUB',\n",
       "  'img': 'https://www.ikea.com/ru/ru/images/products/poaeng-poeng-kreslo-dubovyy-shpon-belenyy-shiftebu-bezhevyy__0940479_PE795027_S5.JPG?f=g'},\n",
       " {'title': 'IKEA PS LÖMSK ИКЕА ПС ЛЁМСК',\n",
       "  'link': 'https://www.ikea.com/ru/ru/p/ikea-ps-lyomsk-vrashchayushcheesya-kreslo-belyy-krasnyy-70407138/',\n",
       "  'price': '5999 RUB',\n",
       "  'img': 'https://www.ikea.com/ru/ru/images/products/poaeng-poeng-kreslo-dubovyy-shpon-belenyy-shiftebu-bezhevyy__0940479_PE795027_S5.JPG?f=g'},\n",
       " {'title': 'ALSEDA АЛЬСЕДА',\n",
       "  'link': 'https://www.ikea.com/ru/ru/p/alseda-puf-taburet-volokno-banana-60388324/',\n",
       "  'price': '2799 RUB',\n",
       "  'img': 'https://www.ikea.com/ru/ru/images/products/poaeng-poeng-kreslo-dubovyy-shpon-belenyy-shiftebu-bezhevyy__0940479_PE795027_S5.JPG?f=g'},\n",
       " {'title': 'VATTVIKEN ВАТТВИКЕН',\n",
       "  'link': 'https://www.ikea.com/ru/ru/p/vattviken-kreslo-krovat-lerhaga-svetlo-seryy-80450796/',\n",
       "  'price': '14999 RUB',\n",
       "  'img': 'https://www.ikea.com/ru/ru/images/products/poaeng-poeng-kreslo-dubovyy-shpon-belenyy-shiftebu-bezhevyy__0940479_PE795027_S5.JPG?f=g'},\n",
       " {'title': 'POÄNG ПОЭНГ',\n",
       "  'link': 'https://www.ikea.com/ru/ru/p/poeng-kreslo-cherno-korichnevyy-shiftebu-temno-seryy-s39302803/',\n",
       "  'price': '6999 RUB',\n",
       "  'img': 'https://www.ikea.com/ru/ru/images/products/poaeng-poeng-kreslo-dubovyy-shpon-belenyy-shiftebu-bezhevyy__0940479_PE795027_S5.JPG?f=g'},\n",
       " {'title': 'GRUNNARP ГРУННАРП',\n",
       "  'link': 'https://www.ikea.com/ru/ru/p/grunnarp-kreslo-gunnared-svetlyy-korichnevo-rozovyy-50495490/',\n",
       "  'price': '13999 RUB',\n",
       "  'img': 'https://www.ikea.com/ru/ru/images/products/poaeng-poeng-kreslo-dubovyy-shpon-belenyy-shiftebu-bezhevyy__0940479_PE795027_S5.JPG?f=g'},\n",
       " {'title': 'POÄNG ПОЭНГ',\n",
       "  'link': 'https://www.ikea.com/ru/ru/p/poeng-kreslo-korichnevyy-shiftebu-bezhevyy-s19302804/',\n",
       "  'price': '6999 RUB',\n",
       "  'img': 'https://www.ikea.com/ru/ru/images/products/poaeng-poeng-kreslo-dubovyy-shpon-belenyy-shiftebu-bezhevyy__0940479_PE795027_S5.JPG?f=g'},\n",
       " {'title': 'BOSNÄS БОСНЭС',\n",
       "  'link': 'https://www.ikea.com/ru/ru/p/bosnes-taburet-dlya-nog-s-yashch-d-hrn-ransta-chernyy-30383709/',\n",
       "  'price': '1799 RUB',\n",
       "  'img': 'https://www.ikea.com/ru/ru/images/products/poaeng-poeng-kreslo-dubovyy-shpon-belenyy-shiftebu-bezhevyy__0940479_PE795027_S5.JPG?f=g'},\n",
       " {'title': 'EKERÖ ЭКЕРЁ',\n",
       "  'link': 'https://www.ikea.com/ru/ru/p/ekeryo-kreslo-shiftebu-zheltyy-20384511/',\n",
       "  'price': '12999 RUB',\n",
       "  'img': 'https://www.ikea.com/ru/ru/images/products/poaeng-poeng-kreslo-dubovyy-shpon-belenyy-shiftebu-bezhevyy__0940479_PE795027_S5.JPG?f=g'},\n",
       " {'title': 'BUSKBO БУСКБУ',\n",
       "  'link': 'https://www.ikea.com/ru/ru/p/buskbu-kreslo-rotang-yupvik-belyy-s19299019/',\n",
       "  'price': '9499 RUB',\n",
       "  'img': 'https://www.ikea.com/ru/ru/images/products/poaeng-poeng-kreslo-dubovyy-shpon-belenyy-shiftebu-bezhevyy__0940479_PE795027_S5.JPG?f=g'},\n",
       " {'title': 'STRANDMON СТРАНДМОН',\n",
       "  'link': 'https://www.ikea.com/ru/ru/p/strandmon-kreslo-s-podgolovnikom-shiftebu-korichnevyy-90419885/',\n",
       "  'price': '12999 RUB',\n",
       "  'img': 'https://www.ikea.com/ru/ru/images/products/poaeng-poeng-kreslo-dubovyy-shpon-belenyy-shiftebu-bezhevyy__0940479_PE795027_S5.JPG?f=g'}]"
      ]
     },
     "execution_count": 154,
     "metadata": {},
     "output_type": "execute_result"
    }
   ],
   "source": [
    "database"
   ]
  },
  {
   "cell_type": "code",
   "execution_count": 9,
   "metadata": {
    "scrolled": true
   },
   "outputs": [
    {
     "data": {
      "text/plain": [
       "<div class=\"range-revamp-product-compact\" data-currency=\"RUB\" data-price=\"6999\" data-product-compact=\"\" data-product-name=\"POÄNG ПОЭНГ\" data-product-number=\"99398317\" data-product-type=\"SPR\" data-ref-id=\"99398317\"><button aria-label=\"Добавить в список покупок\" aria-pressed=\"false\" class=\"range-revamp-toggle-button range-revamp-toggle-button--icon-only range-revamp-toggle-button--transparent range-revamp-product-compact__add-to-list-button\"><svg aria-hidden=\"true\" class=\"range-revamp-svg-icon\" focusable=\"false\" viewbox=\"0 0 24 24\"><path clip-rule=\"evenodd\" d=\"M12.336 5.52055C14.2336 3.62376 17.3096 3.62401 19.2069 5.52129C20.2067 6.52115 20.6796 7.85005 20.6259 9.15761C20.6151 12.2138 18.4184 14.8654 16.4892 16.6366C15.4926 17.5517 14.5004 18.2923 13.7593 18.8036C13.3879 19.0598 13.0771 19.2601 12.8574 19.3973C12.7475 19.466 12.6601 19.519 12.5992 19.5555C12.5687 19.5737 12.5448 19.5879 12.5279 19.5978L12.5079 19.6094L12.502 19.6129L12.5001 19.614C12.5001 19.614 12.4989 19.6147 11.9999 18.748C11.501 19.6147 11.5005 19.6144 11.5005 19.6144L11.4979 19.6129L11.4919 19.6094L11.472 19.5978C11.4551 19.5879 11.4312 19.5737 11.4007 19.5555C11.3397 19.519 11.2524 19.466 11.1425 19.3973C10.9227 19.2601 10.612 19.0598 10.2405 18.8036C9.49947 18.2923 8.50726 17.5517 7.51063 16.6366C5.58146 14.8654 3.38477 12.2139 3.37399 9.15765C3.32024 7.85008 3.79314 6.52117 4.79301 5.52129C6.69054 3.62376 9.76704 3.62376 11.6646 5.52129L11.9993 5.856L12.3353 5.52129L12.336 5.52055ZM11.9999 18.748L11.5005 19.6144L11.9999 19.9019L12.4989 19.6147L11.9999 18.748ZM11.9999 17.573C12.1727 17.462 12.384 17.3226 12.6236 17.1573C13.3125 16.6821 14.2267 15.9988 15.1366 15.1634C17.0157 13.4381 18.6259 11.2919 18.6259 9.13506V9.11213L18.627 9.08922C18.6626 8.31221 18.3844 7.52727 17.7926 6.9355C16.6762 5.81903 14.866 5.81902 13.7495 6.9355L13.7481 6.93689L11.9965 8.68166L10.2504 6.9355C9.13387 5.81903 7.3237 5.81903 6.20722 6.9355C5.61546 7.52727 5.33724 8.31221 5.3729 9.08922L5.37395 9.11213V9.13507C5.37395 11.2919 6.98418 13.4381 8.86325 15.1634C9.77312 15.9988 10.6874 16.6821 11.3762 17.1573C11.6159 17.3226 11.8271 17.462 11.9999 17.573Z\" fill-rule=\"evenodd\"></path></svg></button><a aria-label=\"POÄNG ПОЭНГ - Кресло\" href=\"https://www.ikea.com/ru/ru/p/poeng-kreslo-dubovyy-shpon-belenyy-shiftebu-bezhevyy-s99398317/\"><div class=\"range-revamp-product-compact__image-wrapper\"><div class=\"range-revamp-aspect-ratio-image range-revamp-aspect-ratio-image--square\"><img alt=\"POÄNG ПОЭНГ Кресло, дубовый шпон, беленый/Шифтебу бежевый\" class=\"range-revamp-aspect-ratio-image__image\" data-src=\"false\" data-src-set=\"false\" loading=\"lazy\" sizes=\"(max-width: 400px) 80px, (max-width: 1450px) 160px, 300px\" src=\"https://www.ikea.com/ru/ru/images/products/poaeng-poeng-kreslo-dubovyy-shpon-belenyy-shiftebu-bezhevyy__0940479_PE795027_S5.JPG?f=xxs\" srcset=\"\n",
       "  https://www.ikea.com/ru/ru/images/products/poaeng-poeng-kreslo-dubovyy-shpon-belenyy-shiftebu-bezhevyy__0940479_PE795027_S5.JPG?f=g 1600w,\n",
       "  https://www.ikea.com/ru/ru/images/products/poaeng-poeng-kreslo-dubovyy-shpon-belenyy-shiftebu-bezhevyy__0940479_PE795027_S5.JPG?f=sg 1400w,\n",
       "  https://www.ikea.com/ru/ru/images/products/poaeng-poeng-kreslo-dubovyy-shpon-belenyy-shiftebu-bezhevyy__0940479_PE795027_S5.JPG?f=xxxl 1100w,\n",
       "  https://www.ikea.com/ru/ru/images/products/poaeng-poeng-kreslo-dubovyy-shpon-belenyy-shiftebu-bezhevyy__0940479_PE795027_S5.JPG?f=xxl 900w,\n",
       "  https://www.ikea.com/ru/ru/images/products/poaeng-poeng-kreslo-dubovyy-shpon-belenyy-shiftebu-bezhevyy__0940479_PE795027_S5.JPG?f=xl 750w,\n",
       "  https://www.ikea.com/ru/ru/images/products/poaeng-poeng-kreslo-dubovyy-shpon-belenyy-shiftebu-bezhevyy__0940479_PE795027_S5.JPG?f=l 700w,\n",
       "  https://www.ikea.com/ru/ru/images/products/poaeng-poeng-kreslo-dubovyy-shpon-belenyy-shiftebu-bezhevyy__0940479_PE795027_S5.JPG?f=m 600w,\n",
       "  https://www.ikea.com/ru/ru/images/products/poaeng-poeng-kreslo-dubovyy-shpon-belenyy-shiftebu-bezhevyy__0940479_PE795027_S5.JPG?f=s 500w,\n",
       "  https://www.ikea.com/ru/ru/images/products/poaeng-poeng-kreslo-dubovyy-shpon-belenyy-shiftebu-bezhevyy__0940479_PE795027_S5.JPG?f=xs 400w,\n",
       "  https://www.ikea.com/ru/ru/images/products/poaeng-poeng-kreslo-dubovyy-shpon-belenyy-shiftebu-bezhevyy__0940479_PE795027_S5.JPG?f=xxs 300w,\n",
       "  https://www.ikea.com/ru/ru/images/products/poaeng-poeng-kreslo-dubovyy-shpon-belenyy-shiftebu-bezhevyy__0940479_PE795027_S5.JPG?f=xxxs 160w,\n",
       "  https://www.ikea.com/ru/ru/images/products/poaeng-poeng-kreslo-dubovyy-shpon-belenyy-shiftebu-bezhevyy__0940479_PE795027_S5.JPG?f=u 80w,\n",
       "  https://www.ikea.com/ru/ru/images/products/poaeng-poeng-kreslo-dubovyy-shpon-belenyy-shiftebu-bezhevyy__0940479_PE795027_S5.JPG?f=xu 40w,\n",
       "  https://www.ikea.com/ru/ru/images/products/poaeng-poeng-kreslo-dubovyy-shpon-belenyy-shiftebu-bezhevyy__0940479_PE795027_S5.JPG?f=xxu 39w\n",
       "\"/></div><div class=\"range-revamp-aspect-ratio-image range-revamp-aspect-ratio-image--square range-revamp-product-compact__image-hover range-revamp-product-compact__image-hover--inactive\"><img alt=\"\" class=\"range-revamp-aspect-ratio-image__image\" data-src=\"https://www.ikea.com/ru/ru/images/products/poaeng-poeng-kreslo-dubovyy-shpon-belenyy-shiftebu-bezhevyy__0940480_PE795030_S5.JPG?f=xxs\" data-src-set=\"\n",
       "  https://www.ikea.com/ru/ru/images/products/poaeng-poeng-kreslo-dubovyy-shpon-belenyy-shiftebu-bezhevyy__0940480_PE795030_S5.JPG?f=g 1600w,\n",
       "  https://www.ikea.com/ru/ru/images/products/poaeng-poeng-kreslo-dubovyy-shpon-belenyy-shiftebu-bezhevyy__0940480_PE795030_S5.JPG?f=sg 1400w,\n",
       "  https://www.ikea.com/ru/ru/images/products/poaeng-poeng-kreslo-dubovyy-shpon-belenyy-shiftebu-bezhevyy__0940480_PE795030_S5.JPG?f=xxxl 1100w,\n",
       "  https://www.ikea.com/ru/ru/images/products/poaeng-poeng-kreslo-dubovyy-shpon-belenyy-shiftebu-bezhevyy__0940480_PE795030_S5.JPG?f=xxl 900w,\n",
       "  https://www.ikea.com/ru/ru/images/products/poaeng-poeng-kreslo-dubovyy-shpon-belenyy-shiftebu-bezhevyy__0940480_PE795030_S5.JPG?f=xl 750w,\n",
       "  https://www.ikea.com/ru/ru/images/products/poaeng-poeng-kreslo-dubovyy-shpon-belenyy-shiftebu-bezhevyy__0940480_PE795030_S5.JPG?f=l 700w,\n",
       "  https://www.ikea.com/ru/ru/images/products/poaeng-poeng-kreslo-dubovyy-shpon-belenyy-shiftebu-bezhevyy__0940480_PE795030_S5.JPG?f=m 600w,\n",
       "  https://www.ikea.com/ru/ru/images/products/poaeng-poeng-kreslo-dubovyy-shpon-belenyy-shiftebu-bezhevyy__0940480_PE795030_S5.JPG?f=s 500w,\n",
       "  https://www.ikea.com/ru/ru/images/products/poaeng-poeng-kreslo-dubovyy-shpon-belenyy-shiftebu-bezhevyy__0940480_PE795030_S5.JPG?f=xs 400w,\n",
       "  https://www.ikea.com/ru/ru/images/products/poaeng-poeng-kreslo-dubovyy-shpon-belenyy-shiftebu-bezhevyy__0940480_PE795030_S5.JPG?f=xxs 300w,\n",
       "  https://www.ikea.com/ru/ru/images/products/poaeng-poeng-kreslo-dubovyy-shpon-belenyy-shiftebu-bezhevyy__0940480_PE795030_S5.JPG?f=xxxs 160w,\n",
       "  https://www.ikea.com/ru/ru/images/products/poaeng-poeng-kreslo-dubovyy-shpon-belenyy-shiftebu-bezhevyy__0940480_PE795030_S5.JPG?f=u 80w,\n",
       "  https://www.ikea.com/ru/ru/images/products/poaeng-poeng-kreslo-dubovyy-shpon-belenyy-shiftebu-bezhevyy__0940480_PE795030_S5.JPG?f=xu 40w,\n",
       "  https://www.ikea.com/ru/ru/images/products/poaeng-poeng-kreslo-dubovyy-shpon-belenyy-shiftebu-bezhevyy__0940480_PE795030_S5.JPG?f=xxu 39w\n",
       "\" loading=\"lazy\" sizes=\"(max-width: 400px) 80px, (max-width: 1450px) 160px, 300px\" src=\"//:0\" srcset=\"\"/></div></div></a><div class=\"range-revamp-product-compact__bottom-wrapper\"><a href=\"https://www.ikea.com/ru/ru/p/poeng-kreslo-dubovyy-shpon-belenyy-shiftebu-bezhevyy-s99398317/\"><div class=\"range-revamp-compact-price-package\"><div class=\"range-revamp-compact-price-package__additional-info\"><div class=\"range-revamp-header-section\"><div class=\"range-revamp-header-section__title--small\">POÄNG ПОЭНГ</div><div class=\"range-revamp-header-section__description\"><span class=\"range-revamp-header-section__description-text\">Кресло</span></div></div></div><div class=\"range-revamp-compact-price-package__previous-price-wrapper\"></div><div class=\"range-revamp-compact-price-package__price-wrapper\"><span class=\"range-revamp-price\"><span class=\"range-revamp-price__integer\">6 999</span><span class=\"range-revamp-price__currency-symbol range-revamp-price__currency-symbol--trailing range-revamp-price__currency-symbol--superscript\"> ₽</span></span></div><span class=\"range-revamp-compact-price-package__variations-disclaimer\" data-product-compact-gpr=\"\">Другие варианты</span></div></a><button aria-label=\"Добавить в корзину\" class=\"range-revamp-btn range-revamp-btn--icon-emphasised range-revamp-product-compact__add-to-cart-button\" type=\"button\"><span class=\"range-revamp-btn__inner range-revamp-btn__inner--icon-emphasised range-revamp-btn--small\"><span class=\"range-revamp-btn__copy\"><svg aria-hidden=\"true\" class=\"range-revamp-svg-icon range-revamp-btn__icon\" focusable=\"false\" viewbox=\"0 0 24 24\"><path clip-rule=\"evenodd\" d=\"M10.4372 4H10.9993H12.0003H12.9996H13.5616L13.8538 4.48014L17.2112 9.99713H21H22.2806L21.9702 11.2396L21.5303 13H19.4688L19.7194 11.9971H4.28079L5.59143 17.2397C5.70272 17.6848 6.1027 17.9971 6.56157 17.9971H15V19.9971H6.56157C5.18496 19.9971 3.98502 19.0602 3.65114 17.7247L2.02987 11.2397L1.71924 9.99713H3.00002H6.78793L10.145 4.48017L10.4372 4ZM12.4375 6L14.87 9.99713H9.12911L11.5614 6H12.0003H12.4375ZM17.9961 16V14H19.9961V16H21.9961V18H19.9961V20H17.9961V18H15.9961V16H17.9961Z\" fill-rule=\"evenodd\"></path></svg></span></span></button></div></div>"
      ]
     },
     "execution_count": 9,
     "metadata": {},
     "output_type": "execute_result"
    }
   ],
   "source": [
    "first = products[0]\n",
    "first"
   ]
  },
  {
   "cell_type": "code",
   "execution_count": 162,
   "metadata": {},
   "outputs": [],
   "source": [
    "with open ('data.txt', 'wt', encoding = \"utf-8\") as f:\n",
    "    f.write(str(database))"
   ]
  },
  {
   "cell_type": "code",
   "execution_count": null,
   "metadata": {},
   "outputs": [],
   "source": []
  }
 ],
 "metadata": {
  "kernelspec": {
   "display_name": "Python 3",
   "language": "python",
   "name": "python3"
  },
  "language_info": {
   "codemirror_mode": {
    "name": "ipython",
    "version": 3
   },
   "file_extension": ".py",
   "mimetype": "text/x-python",
   "name": "python",
   "nbconvert_exporter": "python",
   "pygments_lexer": "ipython3",
   "version": "3.8.3"
  }
 },
 "nbformat": 4,
 "nbformat_minor": 4
}
