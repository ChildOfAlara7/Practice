{
 "cells": [
  {
   "cell_type": "markdown",
   "metadata": {},
   "source": [
    "# Convolution Neural Network"
   ]
  },
  {
   "cell_type": "code",
   "execution_count": 87,
   "metadata": {},
   "outputs": [],
   "source": [
    "import numpy as np\n",
    "import matplotlib.pyplot as plt\n",
    "from keras.datasets import cifar10"
   ]
  },
  {
   "cell_type": "code",
   "execution_count": 88,
   "metadata": {},
   "outputs": [],
   "source": [
    "(x_train, y_train), (x_test, y_test) = cifar10.load_data()"
   ]
  },
  {
   "cell_type": "code",
   "execution_count": 89,
   "metadata": {},
   "outputs": [
    {
     "data": {
      "text/plain": [
       "Text(0.5, 1.0, '[6]')"
      ]
     },
     "execution_count": 89,
     "metadata": {},
     "output_type": "execute_result"
    },
    {
     "data": {
      "image/png": "[encoded data removed]",
      "text/plain": [
       "<Figure size 432x288 with 1 Axes>"
      ]
     },
     "metadata": {
      "needs_background": "light"
     },
     "output_type": "display_data"
    }
   ],
   "source": [
    "plt.imshow(x_train[0])\n",
    "plt.title(y_train[0])"
   ]
  },
  {
   "cell_type": "markdown",
   "metadata": {},
   "source": [
    "## Preprocessing"
   ]
  },
  {
   "cell_type": "code",
   "execution_count": 90,
   "metadata": {},
   "outputs": [],
   "source": [
    "x_train = x_train.astype('float32')\n",
    "x_test = x_test.astype('float32')\n",
    "x_train /= 255\n",
    "x_test /= 255"
   ]
  },
  {
   "cell_type": "code",
   "execution_count": 91,
   "metadata": {},
   "outputs": [],
   "source": [
    "from keras.utils import np_utils"
   ]
  },
  {
   "cell_type": "code",
   "execution_count": 92,
   "metadata": {},
   "outputs": [],
   "source": [
    "y_train = np_utils.to_categorical(y_train, 10)\n",
    "y_test = np_utils.to_categorical(y_test, 10)"
   ]
  },
  {
   "cell_type": "code",
   "execution_count": 93,
   "metadata": {},
   "outputs": [
    {
     "data": {
      "text/plain": [
       "(50000, 10)"
      ]
     },
     "execution_count": 93,
     "metadata": {},
     "output_type": "execute_result"
    }
   ],
   "source": [
    "y_train.shape"
   ]
  },
  {
   "cell_type": "markdown",
   "metadata": {},
   "source": [
    "## Model"
   ]
  },
  {
   "cell_type": "code",
   "execution_count": 94,
   "metadata": {},
   "outputs": [],
   "source": [
    "from keras.models import Sequential"
   ]
  },
  {
   "cell_type": "code",
   "execution_count": 95,
   "metadata": {},
   "outputs": [],
   "source": [
    "model = Sequential()"
   ]
  },
  {
   "cell_type": "code",
   "execution_count": 96,
   "metadata": {},
   "outputs": [],
   "source": [
    "from keras.layers import Dense, Flatten, Conv2D, MaxPooling2D,  Dropout, Activation"
   ]
  },
  {
   "cell_type": "code",
   "execution_count": 97,
   "metadata": {},
   "outputs": [],
   "source": [
    "model.add(Conv2D(32, kernel_size=(3, 3), activation='relu', padding='same', input_shape=(32, 32, 3)))\n",
    "model.add(Conv2D(64, kernel_size=(3, 3), activation='relu', padding='same'))\n",
    "model.add(MaxPooling2D(pool_size=(2, 2)))\n",
    "model.add(Dropout(0.25))\n",
    "\n",
    "model.add(Conv2D(32, kernel_size=(3, 3), activation='relu', padding='same'))\n",
    "model.add(Conv2D(64, kernel_size=(3, 3), activation='relu', padding='same'))\n",
    "model.add(MaxPooling2D(pool_size=(2, 2)))\n",
    "model.add(Dropout(0.25))\n",
    "\n",
    "model.add(Flatten())\n",
    "model.add(Dense(512, activation='relu'))\n",
    "model.add(Dropout(0.5))\n",
    "model.add(Dense(10, activation='softmax'))     "
   ]
  },
  {
   "cell_type": "code",
   "execution_count": 98,
   "metadata": {},
   "outputs": [],
   "source": [
    "model.compile(loss='categorical_crossentropy', \n",
    "              optimizer='adam', \n",
    "              metrics=['accuracy'])"
   ]
  },
  {
   "cell_type": "code",
   "execution_count": 99,
   "metadata": {},
   "outputs": [
    {
     "name": "stdout",
     "output_type": "stream",
     "text": [
      "Model: \"sequential_8\"\n",
      "_________________________________________________________________\n",
      "Layer (type)                 Output Shape              Param #   \n",
      "=================================================================\n",
      "conv2d_20 (Conv2D)           (None, 32, 32, 32)        896       \n",
      "_________________________________________________________________\n",
      "conv2d_21 (Conv2D)           (None, 32, 32, 64)        18496     \n",
      "_________________________________________________________________\n",
      "max_pooling2d_9 (MaxPooling2 (None, 16, 16, 64)        0         \n",
      "_________________________________________________________________\n",
      "dropout_3 (Dropout)          (None, 16, 16, 64)        0         \n",
      "_________________________________________________________________\n",
      "conv2d_22 (Conv2D)           (None, 16, 16, 32)        18464     \n",
      "_________________________________________________________________\n",
      "conv2d_23 (Conv2D)           (None, 16, 16, 64)        18496     \n",
      "_________________________________________________________________\n",
      "max_pooling2d_10 (MaxPooling (None, 8, 8, 64)          0         \n",
      "_________________________________________________________________\n",
      "dropout_4 (Dropout)          (None, 8, 8, 64)          0         \n",
      "_________________________________________________________________\n",
      "flatten_7 (Flatten)          (None, 4096)              0         \n",
      "_________________________________________________________________\n",
      "dense_14 (Dense)             (None, 512)               2097664   \n",
      "_________________________________________________________________\n",
      "dropout_5 (Dropout)          (None, 512)               0         \n",
      "_________________________________________________________________\n",
      "dense_15 (Dense)             (None, 10)                5130      \n",
      "=================================================================\n",
      "Total params: 2,159,146\n",
      "Trainable params: 2,159,146\n",
      "Non-trainable params: 0\n",
      "_________________________________________________________________\n"
     ]
    }
   ],
   "source": [
    "model.summary()"
   ]
  },
  {
   "cell_type": "code",
   "execution_count": 100,
   "metadata": {},
   "outputs": [
    {
     "name": "stdout",
     "output_type": "stream",
     "text": [
      "(50000, 32, 32, 3) (50000, 10)\n"
     ]
    }
   ],
   "source": [
    "print(x_train.shape, y_train.shape)"
   ]
  },
  {
   "cell_type": "code",
   "execution_count": 101,
   "metadata": {},
   "outputs": [
    {
     "name": "stdout",
     "output_type": "stream",
     "text": [
      "Epoch 1/20\n",
      "313/313 [==============================] - 283s 904ms/step - loss: 1.6527 - accuracy: 0.3939 - val_loss: 1.2935 - val_accuracy: 0.5316\n",
      "Epoch 2/20\n",
      "313/313 [==============================] - 277s 884ms/step - loss: 1.2002 - accuracy: 0.5733 - val_loss: 1.0492 - val_accuracy: 0.6323\n",
      "Epoch 3/20\n",
      "313/313 [==============================] - 266s 851ms/step - loss: 1.0196 - accuracy: 0.6372 - val_loss: 0.9632 - val_accuracy: 0.6628\n",
      "Epoch 4/20\n",
      "313/313 [==============================] - 267s 854ms/step - loss: 0.9126 - accuracy: 0.6781 - val_loss: 0.8708 - val_accuracy: 0.6926\n",
      "Epoch 5/20\n",
      "313/313 [==============================] - 236s 753ms/step - loss: 0.8119 - accuracy: 0.7143 - val_loss: 0.7819 - val_accuracy: 0.7272\n",
      "Epoch 6/20\n",
      "313/313 [==============================] - 274s 875ms/step - loss: 0.7476 - accuracy: 0.7384 - val_loss: 0.7240 - val_accuracy: 0.7442\n",
      "Epoch 7/20\n",
      "313/313 [==============================] - 294s 939ms/step - loss: 0.6787 - accuracy: 0.7623 - val_loss: 0.7049 - val_accuracy: 0.7546\n",
      "Epoch 8/20\n",
      "313/313 [==============================] - 279s 890ms/step - loss: 0.6243 - accuracy: 0.7788 - val_loss: 0.6757 - val_accuracy: 0.7676\n",
      "Epoch 9/20\n",
      "313/313 [==============================] - 302s 964ms/step - loss: 0.5797 - accuracy: 0.7966 - val_loss: 0.7189 - val_accuracy: 0.7525\n",
      "Epoch 10/20\n",
      "313/313 [==============================] - 271s 867ms/step - loss: 0.5477 - accuracy: 0.8056 - val_loss: 0.6614 - val_accuracy: 0.7741\n",
      "Epoch 11/20\n",
      "313/313 [==============================] - 285s 911ms/step - loss: 0.5040 - accuracy: 0.8207 - val_loss: 0.6887 - val_accuracy: 0.7650\n",
      "Epoch 12/20\n",
      "313/313 [==============================] - 289s 925ms/step - loss: 0.4732 - accuracy: 0.8326 - val_loss: 0.6712 - val_accuracy: 0.7775\n",
      "Epoch 13/20\n",
      "313/313 [==============================] - 290s 926ms/step - loss: 0.4496 - accuracy: 0.8374 - val_loss: 0.6792 - val_accuracy: 0.7734\n",
      "Epoch 14/20\n",
      "313/313 [==============================] - 299s 956ms/step - loss: 0.4136 - accuracy: 0.8520 - val_loss: 0.6621 - val_accuracy: 0.7839\n",
      "Epoch 15/20\n",
      "313/313 [==============================] - 277s 884ms/step - loss: 0.3898 - accuracy: 0.8599 - val_loss: 0.6920 - val_accuracy: 0.7808\n",
      "Epoch 16/20\n",
      "313/313 [==============================] - 267s 853ms/step - loss: 0.3724 - accuracy: 0.8653 - val_loss: 0.6715 - val_accuracy: 0.7784\n",
      "Epoch 17/20\n",
      "313/313 [==============================] - 278s 888ms/step - loss: 0.3519 - accuracy: 0.8765 - val_loss: 0.7045 - val_accuracy: 0.7791\n",
      "Epoch 18/20\n",
      "313/313 [==============================] - 277s 884ms/step - loss: 0.3416 - accuracy: 0.8777 - val_loss: 0.6794 - val_accuracy: 0.7892\n",
      "Epoch 19/20\n",
      "313/313 [==============================] - 277s 886ms/step - loss: 0.3185 - accuracy: 0.8845 - val_loss: 0.7033 - val_accuracy: 0.7865\n",
      "Epoch 20/20\n",
      "313/313 [==============================] - 268s 855ms/step - loss: 0.2963 - accuracy: 0.8945 - val_loss: 0.7117 - val_accuracy: 0.7853\n"
     ]
    },
    {
     "data": {
      "text/plain": [
       "<tensorflow.python.keras.callbacks.History at 0x1f6cc86ea30>"
      ]
     },
     "execution_count": 101,
     "metadata": {},
     "output_type": "execute_result"
    }
   ],
   "source": [
    "model.fit(x_train, y_train, epochs=20, batch_size=128, validation_split=0.2)"
   ]
  },
  {
   "cell_type": "code",
   "execution_count": 103,
   "metadata": {},
   "outputs": [
    {
     "name": "stdout",
     "output_type": "stream",
     "text": [
      "313/313 [==============================] - 17s 55ms/step - loss: 0.7487 - accuracy: 0.7758\n"
     ]
    },
    {
     "data": {
      "text/plain": [
       "[0.7487043142318726, 0.7757999897003174]"
      ]
     },
     "execution_count": 103,
     "metadata": {},
     "output_type": "execute_result"
    }
   ],
   "source": [
    "model.evaluate(x_test, y_test)"
   ]
  },
  {
   "cell_type": "code",
   "execution_count": 104,
   "metadata": {},
   "outputs": [],
   "source": [
    "import requests\n",
    "from PIL import Image\n",
    "from io import BytesIO"
   ]
  },
  {
   "cell_type": "code",
   "execution_count": 124,
   "metadata": {},
   "outputs": [],
   "source": [
    "CIFAR10_classes = [\n",
    "  'airplane',\n",
    "  'automobile',\n",
    "  'bird',\n",
    "  'cat',\n",
    "  'deer',\n",
    "  'dog',\n",
    "  'frog',\n",
    "  'horse',\n",
    "  'ship',\n",
    "  'truck'\n",
    "]\n",
    "\n",
    "def class_name(ix):\n",
    "  return CIFAR10_classes[np.array(ix).flatten()[0]]"
   ]
  },
  {
   "cell_type": "code",
   "execution_count": 111,
   "metadata": {},
   "outputs": [],
   "source": [
    "def resize_image(url):\n",
    "  response = requests.get(url)\n",
    "  img = Image.open(BytesIO(response.content))\n",
    "  width, height = img.size\n",
    "  square_side = min(width, height)\n",
    "  img = img.crop((\n",
    "    np.ceil((width - square_side) / 2),\n",
    "    np.ceil((height - square_side) / 2),\n",
    "    np.ceil((width + square_side) / 2),\n",
    "    np.ceil((height + square_side) / 2)\n",
    "  ))\n",
    "\n",
    "  img.thumbnail((32, 32))\n",
    "  np_array = np.array(img) / 255\n",
    "\n",
    "  return np_array"
   ]
  },
  {
   "cell_type": "code",
   "execution_count": 119,
   "metadata": {},
   "outputs": [],
   "source": [
    "link = 'https://static01.nyt.com/images/2019/04/02/science/28SCI-ZIMMER1/28SCI-ZIMMER1-superJumbo.jpg'"
   ]
  },
  {
   "cell_type": "code",
   "execution_count": 120,
   "metadata": {},
   "outputs": [
    {
     "data": {
      "text/plain": [
       "<matplotlib.image.AxesImage at 0x1f6cdd69400>"
      ]
     },
     "execution_count": 120,
     "metadata": {},
     "output_type": "execute_result"
    },
    {
     "data": {
      "image/png": "[encoded data removed]",
      "text/plain": [
       "<Figure size 432x288 with 1 Axes>"
      ]
     },
     "metadata": {
      "needs_background": "light"
     },
     "output_type": "display_data"
    }
   ],
   "source": [
    "plt.imshow(resize_image(link))"
   ]
  },
  {
   "cell_type": "code",
   "execution_count": 121,
   "metadata": {},
   "outputs": [
    {
     "data": {
      "text/plain": [
       "6"
      ]
     },
     "execution_count": 121,
     "metadata": {},
     "output_type": "execute_result"
    }
   ],
   "source": [
    "np.argmax(model.predict(np.array([resize_image(link)])))"
   ]
  },
  {
   "cell_type": "code",
   "execution_count": 123,
   "metadata": {},
   "outputs": [
    {
     "data": {
      "text/plain": [
       "'frog'"
      ]
     },
     "execution_count": 123,
     "metadata": {},
     "output_type": "execute_result"
    }
   ],
   "source": [
    "class_name(6)"
   ]
  },
  {
   "cell_type": "code",
   "execution_count": 126,
   "metadata": {},
   "outputs": [
    {
     "data": {
      "text/plain": [
       "Text(0.5, 1.0, 'deer')"
      ]
     },
     "execution_count": 126,
     "metadata": {},
     "output_type": "execute_result"
    },
    {
     "data": {
      "image/png": "[encoded data removed]",
      "text/plain": [
       "<Figure size 432x288 with 1 Axes>"
      ]
     },
     "metadata": {
      "needs_background": "light"
     },
     "output_type": "display_data"
    }
   ],
   "source": [
    "link1 = 'https://wehco.media.clients.ellingtoncms.com/img/photos/2019/06/17/resized_250499-1b-deer-0618_85-26607.JPG'\n",
    "plt.imshow(resize_image(link1))\n",
    "plt.title(class_name(np.argmax(model.predict(np.array([resize_image(link1)])))))"
   ]
  },
  {
   "cell_type": "code",
   "execution_count": null,
   "metadata": {},
   "outputs": [],
   "source": []
  }
 ],
 "metadata": {
  "kernelspec": {
   "display_name": "Python 3",
   "language": "python",
   "name": "python3"
  },
  "language_info": {
   "codemirror_mode": {
    "name": "ipython",
    "version": 3
   },
   "file_extension": ".py",
   "mimetype": "text/x-python",
   "name": "python",
   "nbconvert_exporter": "python",
   "pygments_lexer": "ipython3",
   "version": "3.8.3"
  }
 },
 "nbformat": 4,
 "nbformat_minor": 4
}
