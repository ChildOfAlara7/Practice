{
 "cells": [
  {
   "cell_type": "markdown",
   "metadata": {},
   "source": [
    "Практика №5. Илья Гуцко. @Balamutic"
   ]
  },
  {
   "cell_type": "code",
   "execution_count": 1,
   "metadata": {},
   "outputs": [],
   "source": [
    "import pandas as pd\n",
    "import numpy as np\n",
    "import matplotlib.pyplot as plt\n",
    "from sklearn.linear_model import LogisticRegression\n",
    "from sklearn.metrics import accuracy_score"
   ]
  },
  {
   "cell_type": "code",
   "execution_count": 2,
   "metadata": {
    "scrolled": false
   },
   "outputs": [
    {
     "data": {
      "text/html": [
       "<div>\n",
       "<style scoped>\n",
       "    .dataframe tbody tr th:only-of-type {\n",
       "        vertical-align: middle;\n",
       "    }\n",
       "\n",
       "    .dataframe tbody tr th {\n",
       "        vertical-align: top;\n",
       "    }\n",
       "\n",
       "    .dataframe thead th {\n",
       "        text-align: right;\n",
       "    }\n",
       "</style>\n",
       "<table border=\"1\" class=\"dataframe\">\n",
       "  <thead>\n",
       "    <tr style=\"text-align: right;\">\n",
       "      <th></th>\n",
       "      <th>LIMIT_BAL</th>\n",
       "      <th>SEX</th>\n",
       "      <th>EDUCATION</th>\n",
       "      <th>MARRIAGE</th>\n",
       "      <th>AGE</th>\n",
       "      <th>PAY_0</th>\n",
       "      <th>PAY_2</th>\n",
       "      <th>PAY_3</th>\n",
       "      <th>PAY_4</th>\n",
       "      <th>PAY_5</th>\n",
       "      <th>...</th>\n",
       "      <th>BILL_AMT4</th>\n",
       "      <th>BILL_AMT5</th>\n",
       "      <th>BILL_AMT6</th>\n",
       "      <th>PAY_AMT1</th>\n",
       "      <th>PAY_AMT2</th>\n",
       "      <th>PAY_AMT3</th>\n",
       "      <th>PAY_AMT4</th>\n",
       "      <th>PAY_AMT5</th>\n",
       "      <th>PAY_AMT6</th>\n",
       "      <th>default.payment.next.month</th>\n",
       "    </tr>\n",
       "  </thead>\n",
       "  <tbody>\n",
       "    <tr>\n",
       "      <th>29995</th>\n",
       "      <td>220000.0</td>\n",
       "      <td>1</td>\n",
       "      <td>3</td>\n",
       "      <td>1</td>\n",
       "      <td>39</td>\n",
       "      <td>0</td>\n",
       "      <td>0</td>\n",
       "      <td>0</td>\n",
       "      <td>0</td>\n",
       "      <td>0</td>\n",
       "      <td>...</td>\n",
       "      <td>88004.0</td>\n",
       "      <td>31237.0</td>\n",
       "      <td>15980.0</td>\n",
       "      <td>8500.0</td>\n",
       "      <td>20000.0</td>\n",
       "      <td>5003.0</td>\n",
       "      <td>3047.0</td>\n",
       "      <td>5000.0</td>\n",
       "      <td>1000.0</td>\n",
       "      <td>0</td>\n",
       "    </tr>\n",
       "    <tr>\n",
       "      <th>29996</th>\n",
       "      <td>150000.0</td>\n",
       "      <td>1</td>\n",
       "      <td>3</td>\n",
       "      <td>2</td>\n",
       "      <td>43</td>\n",
       "      <td>-1</td>\n",
       "      <td>-1</td>\n",
       "      <td>-1</td>\n",
       "      <td>-1</td>\n",
       "      <td>0</td>\n",
       "      <td>...</td>\n",
       "      <td>8979.0</td>\n",
       "      <td>5190.0</td>\n",
       "      <td>0.0</td>\n",
       "      <td>1837.0</td>\n",
       "      <td>3526.0</td>\n",
       "      <td>8998.0</td>\n",
       "      <td>129.0</td>\n",
       "      <td>0.0</td>\n",
       "      <td>0.0</td>\n",
       "      <td>0</td>\n",
       "    </tr>\n",
       "    <tr>\n",
       "      <th>29997</th>\n",
       "      <td>30000.0</td>\n",
       "      <td>1</td>\n",
       "      <td>2</td>\n",
       "      <td>2</td>\n",
       "      <td>37</td>\n",
       "      <td>4</td>\n",
       "      <td>3</td>\n",
       "      <td>2</td>\n",
       "      <td>-1</td>\n",
       "      <td>0</td>\n",
       "      <td>...</td>\n",
       "      <td>20878.0</td>\n",
       "      <td>20582.0</td>\n",
       "      <td>19357.0</td>\n",
       "      <td>0.0</td>\n",
       "      <td>0.0</td>\n",
       "      <td>22000.0</td>\n",
       "      <td>4200.0</td>\n",
       "      <td>2000.0</td>\n",
       "      <td>3100.0</td>\n",
       "      <td>1</td>\n",
       "    </tr>\n",
       "    <tr>\n",
       "      <th>29998</th>\n",
       "      <td>80000.0</td>\n",
       "      <td>1</td>\n",
       "      <td>3</td>\n",
       "      <td>1</td>\n",
       "      <td>41</td>\n",
       "      <td>1</td>\n",
       "      <td>-1</td>\n",
       "      <td>0</td>\n",
       "      <td>0</td>\n",
       "      <td>0</td>\n",
       "      <td>...</td>\n",
       "      <td>52774.0</td>\n",
       "      <td>11855.0</td>\n",
       "      <td>48944.0</td>\n",
       "      <td>85900.0</td>\n",
       "      <td>3409.0</td>\n",
       "      <td>1178.0</td>\n",
       "      <td>1926.0</td>\n",
       "      <td>52964.0</td>\n",
       "      <td>1804.0</td>\n",
       "      <td>1</td>\n",
       "    </tr>\n",
       "    <tr>\n",
       "      <th>29999</th>\n",
       "      <td>50000.0</td>\n",
       "      <td>1</td>\n",
       "      <td>2</td>\n",
       "      <td>1</td>\n",
       "      <td>46</td>\n",
       "      <td>0</td>\n",
       "      <td>0</td>\n",
       "      <td>0</td>\n",
       "      <td>0</td>\n",
       "      <td>0</td>\n",
       "      <td>...</td>\n",
       "      <td>36535.0</td>\n",
       "      <td>32428.0</td>\n",
       "      <td>15313.0</td>\n",
       "      <td>2078.0</td>\n",
       "      <td>1800.0</td>\n",
       "      <td>1430.0</td>\n",
       "      <td>1000.0</td>\n",
       "      <td>1000.0</td>\n",
       "      <td>1000.0</td>\n",
       "      <td>1</td>\n",
       "    </tr>\n",
       "  </tbody>\n",
       "</table>\n",
       "<p>5 rows × 24 columns</p>\n",
       "</div>"
      ],
      "text/plain": [
       "       LIMIT_BAL  SEX  EDUCATION  MARRIAGE  AGE  PAY_0  PAY_2  PAY_3  PAY_4  \\\n",
       "29995   220000.0    1          3         1   39      0      0      0      0   \n",
       "29996   150000.0    1          3         2   43     -1     -1     -1     -1   \n",
       "29997    30000.0    1          2         2   37      4      3      2     -1   \n",
       "29998    80000.0    1          3         1   41      1     -1      0      0   \n",
       "29999    50000.0    1          2         1   46      0      0      0      0   \n",
       "\n",
       "       PAY_5  ...  BILL_AMT4  BILL_AMT5  BILL_AMT6  PAY_AMT1  PAY_AMT2  \\\n",
       "29995      0  ...    88004.0    31237.0    15980.0    8500.0   20000.0   \n",
       "29996      0  ...     8979.0     5190.0        0.0    1837.0    3526.0   \n",
       "29997      0  ...    20878.0    20582.0    19357.0       0.0       0.0   \n",
       "29998      0  ...    52774.0    11855.0    48944.0   85900.0    3409.0   \n",
       "29999      0  ...    36535.0    32428.0    15313.0    2078.0    1800.0   \n",
       "\n",
       "       PAY_AMT3  PAY_AMT4  PAY_AMT5  PAY_AMT6  default.payment.next.month  \n",
       "29995    5003.0    3047.0    5000.0    1000.0                           0  \n",
       "29996    8998.0     129.0       0.0       0.0                           0  \n",
       "29997   22000.0    4200.0    2000.0    3100.0                           1  \n",
       "29998    1178.0    1926.0   52964.0    1804.0                           1  \n",
       "29999    1430.0    1000.0    1000.0    1000.0                           1  \n",
       "\n",
       "[5 rows x 24 columns]"
      ]
     },
     "execution_count": 2,
     "metadata": {},
     "output_type": "execute_result"
    }
   ],
   "source": [
    "data = pd.read_csv('UCI_Credit_Card.csv')\n",
    "del data ['ID']\n",
    "data.tail()"
   ]
  },
  {
   "cell_type": "code",
   "execution_count": 3,
   "metadata": {},
   "outputs": [
    {
     "data": {
      "text/plain": [
       "LIMIT_BAL                     0\n",
       "SEX                           0\n",
       "EDUCATION                     0\n",
       "MARRIAGE                      0\n",
       "AGE                           0\n",
       "PAY_0                         0\n",
       "PAY_2                         0\n",
       "PAY_3                         0\n",
       "PAY_4                         0\n",
       "PAY_5                         0\n",
       "PAY_6                         0\n",
       "BILL_AMT1                     0\n",
       "BILL_AMT2                     0\n",
       "BILL_AMT3                     0\n",
       "BILL_AMT4                     0\n",
       "BILL_AMT5                     0\n",
       "BILL_AMT6                     0\n",
       "PAY_AMT1                      0\n",
       "PAY_AMT2                      0\n",
       "PAY_AMT3                      0\n",
       "PAY_AMT4                      0\n",
       "PAY_AMT5                      0\n",
       "PAY_AMT6                      0\n",
       "default.payment.next.month    0\n",
       "dtype: int64"
      ]
     },
     "execution_count": 3,
     "metadata": {},
     "output_type": "execute_result"
    }
   ],
   "source": [
    "np.sum(data.isna())"
   ]
  },
  {
   "cell_type": "code",
   "execution_count": 4,
   "metadata": {},
   "outputs": [],
   "source": [
    "X_train = np.array(data[['SEX', 'AGE', 'EDUCATION']][:20000])\n",
    "Y_train = np.array(data['default.payment.next.month'][:20000])\n",
    "\n",
    "X_test = np.array(data[['SEX', 'AGE', 'EDUCATION']][20000:])\n",
    "Y_test = np.array(data['default.payment.next.month'][20000:])"
   ]
  },
  {
   "cell_type": "code",
   "execution_count": 53,
   "metadata": {
    "scrolled": true
   },
   "outputs": [
    {
     "name": "stdout",
     "output_type": "stream",
     "text": [
      "10000\n",
      "2078\n"
     ]
    }
   ],
   "source": [
    "print(len(Y_test))\n",
    "print(sum(Y_test == 1))"
   ]
  },
  {
   "cell_type": "code",
   "execution_count": 42,
   "metadata": {},
   "outputs": [],
   "source": [
    "X_train1 = np.array(data[['PAY_0', 'PAY_2', 'PAY_3', 'PAY_4', 'PAY_5', 'PAY_6']][:20000])\n",
    "Y_train1 = np.array(data['default.payment.next.month'][:20000])\n",
    "\n",
    "X_test1 = np.array(data[['PAY_0', 'PAY_2', 'PAY_3', 'PAY_4', 'PAY_5', 'PAY_6']][20000:])\n",
    "Y_test1 = np.array(data['default.payment.next.month'][20000:])"
   ]
  },
  {
   "cell_type": "code",
   "execution_count": 43,
   "metadata": {},
   "outputs": [],
   "source": [
    "X_train2 = np.array(data[['BILL_AMT1', 'BILL_AMT2', 'BILL_AMT3', 'BILL_AMT4', 'BILL_AMT5', 'BILL_AMT6']][:20000])\n",
    "Y_train2 = np.array(data['default.payment.next.month'][:20000])\n",
    "\n",
    "X_test2 = np.array(data[['BILL_AMT1', 'BILL_AMT2', 'BILL_AMT3', 'BILL_AMT4', 'BILL_AMT5', 'BILL_AMT6']][20000:])\n",
    "Y_test2 = np.array(data['default.payment.next.month'][20000:])"
   ]
  },
  {
   "cell_type": "code",
   "execution_count": 44,
   "metadata": {},
   "outputs": [],
   "source": [
    "X_train3 = np.array(data[['PAY_AMT1', 'PAY_AMT2', 'PAY_AMT3', 'PAY_AMT4', 'PAY_AMT5', 'PAY_AMT6']][:20000])\n",
    "Y_train3 = np.array(data['default.payment.next.month'][:20000])\n",
    "\n",
    "X_test3 = np.array(data[['PAY_AMT1', 'PAY_AMT2', 'PAY_AMT3', 'PAY_AMT4', 'PAY_AMT5', 'PAY_AMT6']][20000:])\n",
    "Y_test3 = np.array(data['default.payment.next.month'][20000:])"
   ]
  },
  {
   "cell_type": "code",
   "execution_count": 91,
   "metadata": {},
   "outputs": [
    {
     "data": {
      "text/plain": [
       "0.78585"
      ]
     },
     "execution_count": 91,
     "metadata": {},
     "output_type": "execute_result"
    }
   ],
   "source": [
    "clf = LogisticRegression(class_weight = {0:1, 1:3}).fit(X_train1, Y_train1)\n",
    "clf.score(X_train1, Y_train1)"
   ]
  },
  {
   "cell_type": "code",
   "execution_count": 92,
   "metadata": {
    "scrolled": true
   },
   "outputs": [
    {
     "data": {
      "text/plain": [
       "array([0, 1, 0, ..., 1, 1, 0], dtype=int64)"
      ]
     },
     "execution_count": 92,
     "metadata": {},
     "output_type": "execute_result"
    }
   ],
   "source": [
    "Y_pred1 = clf.predict(X_test1)\n",
    "Y_pred1"
   ]
  },
  {
   "cell_type": "code",
   "execution_count": 93,
   "metadata": {},
   "outputs": [
    {
     "name": "stdout",
     "output_type": "stream",
     "text": [
      "10000\n",
      "1798\n"
     ]
    }
   ],
   "source": [
    "print(len(Y_pred1))\n",
    "print(sum(Y_pred1==1 ))"
   ]
  },
  {
   "cell_type": "code",
   "execution_count": 94,
   "metadata": {
    "scrolled": true
   },
   "outputs": [
    {
     "data": {
      "text/plain": [
       "0.5489432703003337"
      ]
     },
     "execution_count": 94,
     "metadata": {},
     "output_type": "execute_result"
    }
   ],
   "source": [
    "from sklearn.metrics import precision_score\n",
    "precision_score(Y_test1, clf.predict(X_test1), pos_label = 1)"
   ]
  },
  {
   "cell_type": "code",
   "execution_count": 95,
   "metadata": {
    "scrolled": true
   },
   "outputs": [
    {
     "data": {
      "text/plain": [
       "0.4749759384023099"
      ]
     },
     "execution_count": 95,
     "metadata": {},
     "output_type": "execute_result"
    }
   ],
   "source": [
    "from sklearn.metrics import recall_score\n",
    "recall_score(Y_test1, clf.predict(X_test1), pos_label = 1)"
   ]
  },
  {
   "cell_type": "code",
   "execution_count": 96,
   "metadata": {},
   "outputs": [
    {
     "data": {
      "text/plain": [
       "0.8098"
      ]
     },
     "execution_count": 96,
     "metadata": {},
     "output_type": "execute_result"
    }
   ],
   "source": [
    "accuracy_score(Y_test1, clf.predict(X_test1))"
   ]
  },
  {
   "cell_type": "code",
   "execution_count": 98,
   "metadata": {},
   "outputs": [
    {
     "data": {
      "text/plain": [
       "0.65195"
      ]
     },
     "execution_count": 98,
     "metadata": {},
     "output_type": "execute_result"
    }
   ],
   "source": [
    "clf = LogisticRegression(class_weight = {0:1, 1:3}).fit(X_train2, Y_train2)\n",
    "clf.score(X_train2, Y_train2)"
   ]
  },
  {
   "cell_type": "code",
   "execution_count": 99,
   "metadata": {},
   "outputs": [
    {
     "name": "stdout",
     "output_type": "stream",
     "text": [
      "10000\n",
      "1798\n"
     ]
    }
   ],
   "source": [
    "print(len(Y_pred1))\n",
    "print(sum(Y_pred1==1))"
   ]
  },
  {
   "cell_type": "code",
   "execution_count": 100,
   "metadata": {},
   "outputs": [
    {
     "data": {
      "text/plain": [
       "array([0, 1, 0, ..., 1, 1, 0], dtype=int64)"
      ]
     },
     "execution_count": 100,
     "metadata": {},
     "output_type": "execute_result"
    }
   ],
   "source": [
    "Y_pred2 = clf.predict(X_test2)\n",
    "Y_pred2"
   ]
  },
  {
   "cell_type": "code",
   "execution_count": 101,
   "metadata": {},
   "outputs": [
    {
     "name": "stdout",
     "output_type": "stream",
     "text": [
      "10000\n",
      "2133\n"
     ]
    }
   ],
   "source": [
    "print(len(Y_pred2))\n",
    "print(sum(Y_pred2==1))"
   ]
  },
  {
   "cell_type": "code",
   "execution_count": 102,
   "metadata": {
    "scrolled": true
   },
   "outputs": [
    {
     "data": {
      "text/plain": [
       "0.16268166901078293"
      ]
     },
     "execution_count": 102,
     "metadata": {},
     "output_type": "execute_result"
    }
   ],
   "source": [
    "precision_score(Y_test2, clf.predict(X_test2), pos_label = 1)"
   ]
  },
  {
   "cell_type": "code",
   "execution_count": 103,
   "metadata": {},
   "outputs": [
    {
     "data": {
      "text/plain": [
       "0.16698748796920115"
      ]
     },
     "execution_count": 103,
     "metadata": {},
     "output_type": "execute_result"
    }
   ],
   "source": [
    "recall_score(Y_test2, clf.predict(X_test2), pos_label = 1)"
   ]
  },
  {
   "cell_type": "code",
   "execution_count": 106,
   "metadata": {},
   "outputs": [
    {
     "data": {
      "text/plain": [
       "0.75935"
      ]
     },
     "execution_count": 106,
     "metadata": {},
     "output_type": "execute_result"
    }
   ],
   "source": [
    "clf = LogisticRegression(class_weight = {0:1, 1:3}).fit(X_train3, Y_train3)\n",
    "clf.score(X_train3, Y_train3)"
   ]
  },
  {
   "cell_type": "code",
   "execution_count": 107,
   "metadata": {},
   "outputs": [
    {
     "data": {
      "text/plain": [
       "array([0, 0, 0, ..., 0, 0, 0], dtype=int64)"
      ]
     },
     "execution_count": 107,
     "metadata": {},
     "output_type": "execute_result"
    }
   ],
   "source": [
    "Y_pred3 = clf.predict(X_test3)\n",
    "Y_pred3"
   ]
  },
  {
   "cell_type": "code",
   "execution_count": 108,
   "metadata": {},
   "outputs": [
    {
     "name": "stdout",
     "output_type": "stream",
     "text": [
      "10000\n",
      "449\n"
     ]
    }
   ],
   "source": [
    "print(len(Y_pred3))\n",
    "print(sum(Y_pred3==1))"
   ]
  },
  {
   "cell_type": "code",
   "execution_count": 109,
   "metadata": {
    "scrolled": false
   },
   "outputs": [
    {
     "data": {
      "text/plain": [
       "0.40089086859688194"
      ]
     },
     "execution_count": 109,
     "metadata": {},
     "output_type": "execute_result"
    }
   ],
   "source": [
    "precision_score(Y_test3, clf.predict(X_test3), pos_label = 1)"
   ]
  },
  {
   "cell_type": "code",
   "execution_count": 110,
   "metadata": {},
   "outputs": [
    {
     "data": {
      "text/plain": [
       "0.08662175168431184"
      ]
     },
     "execution_count": 110,
     "metadata": {},
     "output_type": "execute_result"
    }
   ],
   "source": [
    "recall_score(Y_test3, clf.predict(X_test3), pos_label = 1)"
   ]
  },
  {
   "cell_type": "code",
   "execution_count": 111,
   "metadata": {},
   "outputs": [],
   "source": [
    "X_train4 = np.array(data[['PAY_0', 'PAY_2', 'PAY_3', 'PAY_4', 'PAY_5', 'PAY_6', 'SEX', 'EDUCATION']][:20000])\n",
    "Y_train4 = np.array(data['default.payment.next.month'][:20000])\n",
    "\n",
    "X_test4 = np.array(data[['PAY_0', 'PAY_2', 'PAY_3', 'PAY_4', 'PAY_5', 'PAY_6', 'SEX',  'EDUCATION']][20000:])\n",
    "Y_test4 = np.array(data['default.payment.next.month'][20000:])"
   ]
  },
  {
   "cell_type": "code",
   "execution_count": 113,
   "metadata": {},
   "outputs": [
    {
     "name": "stdout",
     "output_type": "stream",
     "text": [
      "0.7838\n",
      "10000\n",
      "1861\n",
      "0.5405695862439549\n",
      "0.48411934552454283\n"
     ]
    }
   ],
   "source": [
    "clf = LogisticRegression(class_weight = {0:1, 1:3}).fit(X_train4, Y_train4)\n",
    "print(clf.score(X_train4, Y_train4))\n",
    "Y_pred4 = clf.predict(X_test4)\n",
    "print(len(Y_pred4))\n",
    "print(sum(Y_pred4==1))\n",
    "print(precision_score(Y_test4, clf.predict(X_test4), pos_label = 1))\n",
    "print(recall_score(Y_test4, clf.predict(X_test4), pos_label = 1))"
   ]
  },
  {
   "cell_type": "code",
   "execution_count": 125,
   "metadata": {},
   "outputs": [
    {
     "data": {
      "text/plain": [
       "LIMIT_BAL                     50000.0\n",
       "SEX                               1.0\n",
       "EDUCATION                         2.0\n",
       "MARRIAGE                          1.0\n",
       "AGE                              46.0\n",
       "PAY_0                             0.0\n",
       "PAY_2                             0.0\n",
       "PAY_3                             0.0\n",
       "PAY_4                             0.0\n",
       "PAY_5                             0.0\n",
       "PAY_6                             0.0\n",
       "BILL_AMT1                     47929.0\n",
       "BILL_AMT2                     48905.0\n",
       "BILL_AMT3                     49764.0\n",
       "BILL_AMT4                     36535.0\n",
       "BILL_AMT5                     32428.0\n",
       "BILL_AMT6                     15313.0\n",
       "PAY_AMT1                       2078.0\n",
       "PAY_AMT2                       1800.0\n",
       "PAY_AMT3                       1430.0\n",
       "PAY_AMT4                       1000.0\n",
       "PAY_AMT5                       1000.0\n",
       "PAY_AMT6                       1000.0\n",
       "default.payment.next.month        1.0\n",
       "Name: 29999, dtype: float64"
      ]
     },
     "execution_count": 125,
     "metadata": {},
     "output_type": "execute_result"
    }
   ],
   "source": [
    "data.iloc[29999]"
   ]
  },
  {
   "cell_type": "code",
   "execution_count": 127,
   "metadata": {},
   "outputs": [],
   "source": [
    "X_testing = [[-1.0, 2.0, 0.0, 0.0, 0.0, 2.0, 2.0, 2.0],\n",
    "             [0.0, 0.0, 0.0,0.0, 0.0, 0.0, 2.0, 2.0],\n",
    "             [0.0, 0.0, 0.0,0.0, 0.0, 0.0, 1.0, 2.0]       \n",
    "            ]\n",
    "df = pd.DataFrame(X_testing, columns=['PAY_0', 'PAY_2', 'PAY_3', 'PAY_4', 'PAY_5', 'PAY_6', 'SEX',  'EDUCATION'])"
   ]
  },
  {
   "cell_type": "code",
   "execution_count": 128,
   "metadata": {},
   "outputs": [
    {
     "name": "stdout",
     "output_type": "stream",
     "text": [
      "[0 0 0]\n"
     ]
    }
   ],
   "source": [
    "print(clf.predict(df))"
   ]
  },
  {
   "cell_type": "markdown",
   "metadata": {},
   "source": [
    "Попробуем вручную"
   ]
  },
  {
   "cell_type": "code",
   "execution_count": 109,
   "metadata": {},
   "outputs": [],
   "source": [
    "def net_input(W, X, b):\n",
    "    return (np.dot(W, X.T) + b).flatten()"
   ]
  },
  {
   "cell_type": "code",
   "execution_count": 110,
   "metadata": {},
   "outputs": [],
   "source": [
    "def sigmoid(Z):\n",
    "    return 1.0/(1 + np.exp(-Z))"
   ]
  },
  {
   "cell_type": "code",
   "execution_count": 111,
   "metadata": {},
   "outputs": [],
   "source": [
    "def cost_function(W, X, b, Y):\n",
    "    return -np.sum(Y * np.log(sigmoid(net_input(W, X, b))) + (1 - Y) * np.log(1 - sigmoid(net_input(W, X, b)))) / X.shape[1]"
   ]
  },
  {
   "cell_type": "code",
   "execution_count": 112,
   "metadata": {},
   "outputs": [],
   "source": [
    "def cost_function_derivative_w(W, X, b, Y):\n",
    "    return (np.dot(X.T, sigmoid(net_input(W, X, b)) - Y) / X.shape[0]).reshape(1, -1)"
   ]
  },
  {
   "cell_type": "code",
   "execution_count": 113,
   "metadata": {},
   "outputs": [],
   "source": [
    "def cost_function_derivative_b(W, X, b, Y):\n",
    "    return (np.sum(sigmoid(net_input(W, X, b)) - Y) / X.shape[0]).reshape(1, -1)"
   ]
  },
  {
   "cell_type": "code",
   "execution_count": 114,
   "metadata": {},
   "outputs": [],
   "source": [
    "def accuracy(Y_hat, Y):\n",
    "    return np.sum(Y_hat == Y) / len(Y)"
   ]
  },
  {
   "cell_type": "code",
   "execution_count": 119,
   "metadata": {},
   "outputs": [],
   "source": [
    "X = np.array(data[['PAY_0', 'PAY_2', 'PAY_3', 'PAY_4', 'PAY_5', 'PAY_6',  'SEX', 'EDUCATION']][:20000])\n",
    "Y = np.array(data['default.payment.next.month'][:20000])"
   ]
  },
  {
   "cell_type": "code",
   "execution_count": 116,
   "metadata": {},
   "outputs": [
    {
     "name": "stdout",
     "output_type": "stream",
     "text": [
      "(1, 14)\n"
     ]
    }
   ],
   "source": [
    "W = np.zeros((1, X.shape[1]))\n",
    "print(W.shape)\n",
    "b = 0\n",
    "\n",
    "NUM_ITERATIONS = 100\n",
    "LEARNING_RATE = 10e-7"
   ]
  },
  {
   "cell_type": "code",
   "execution_count": 117,
   "metadata": {},
   "outputs": [
    {
     "name": "stdout",
     "output_type": "stream",
     "text": [
      "0 step\n",
      "990.210257942779\n"
     ]
    },
    {
     "name": "stderr",
     "output_type": "stream",
     "text": [
      "<ipython-input-110-f55646c48c6d>:2: RuntimeWarning: overflow encountered in exp\n",
      "  return 1.0/(1 + np.exp(-Z))\n"
     ]
    },
    {
     "name": "stdout",
     "output_type": "stream",
     "text": [
      "Accuracy: 0.7721\n",
      "Y_pred: [0 0 0 ... 0 0 0]\n",
      "1 step\n",
      "nan\n"
     ]
    },
    {
     "name": "stderr",
     "output_type": "stream",
     "text": [
      "<ipython-input-111-e3ef901737f4>:2: RuntimeWarning: divide by zero encountered in log\n",
      "  return -np.sum(Y * np.log(sigmoid(net_input(W, X, b))) + (1 - Y) * np.log(1 - sigmoid(net_input(W, X, b)))) / X.shape[1]\n",
      "<ipython-input-111-e3ef901737f4>:2: RuntimeWarning: invalid value encountered in multiply\n",
      "  return -np.sum(Y * np.log(sigmoid(net_input(W, X, b))) + (1 - Y) * np.log(1 - sigmoid(net_input(W, X, b)))) / X.shape[1]\n"
     ]
    },
    {
     "name": "stdout",
     "output_type": "stream",
     "text": [
      "Accuracy: 0.7721\n",
      "Y_pred: [0 0 0 ... 0 0 0]\n",
      "2 step\n",
      "nan\n",
      "Accuracy: 0.2279\n",
      "Y_pred: [1 1 1 ... 1 1 1]\n",
      "3 step\n",
      "nan\n",
      "Accuracy: 0.7721\n",
      "Y_pred: [0 0 0 ... 0 0 0]\n",
      "4 step\n",
      "nan\n",
      "Accuracy: 0.7721\n",
      "Y_pred: [0 0 0 ... 0 0 0]\n",
      "5 step\n",
      "nan\n",
      "Accuracy: 0.7721\n",
      "Y_pred: [0 0 0 ... 0 0 0]\n",
      "6 step\n",
      "nan\n",
      "Accuracy: 0.2279\n",
      "Y_pred: [0 1 1 ... 1 1 1]\n",
      "7 step\n",
      "nan\n",
      "Accuracy: 0.7721\n",
      "Y_pred: [0 0 0 ... 0 0 0]\n",
      "8 step\n",
      "nan\n",
      "Accuracy: 0.7721\n",
      "Y_pred: [0 0 0 ... 0 0 0]\n",
      "9 step\n",
      "nan\n",
      "Accuracy: 0.7721\n",
      "Y_pred: [0 0 0 ... 0 0 0]\n",
      "10 step\n",
      "nan\n",
      "Accuracy: 0.7721\n",
      "Y_pred: [0 0 0 ... 0 0 0]\n",
      "11 step\n",
      "nan\n",
      "Accuracy: 0.2279\n",
      "Y_pred: [1 1 1 ... 1 1 1]\n",
      "12 step\n",
      "nan\n",
      "Accuracy: 0.7721\n",
      "Y_pred: [0 0 0 ... 0 0 0]\n",
      "13 step\n",
      "nan\n",
      "Accuracy: 0.7721\n",
      "Y_pred: [0 0 0 ... 0 0 0]\n",
      "14 step\n",
      "nan\n",
      "Accuracy: 0.7721\n",
      "Y_pred: [0 0 0 ... 0 0 0]\n",
      "15 step\n",
      "nan\n",
      "Accuracy: 0.7721\n",
      "Y_pred: [0 1 0 ... 1 0 0]\n",
      "16 step\n",
      "nan\n",
      "Accuracy: 0.7721\n",
      "Y_pred: [0 0 0 ... 0 0 0]\n",
      "17 step\n",
      "nan\n",
      "Accuracy: 0.7721\n",
      "Y_pred: [0 0 0 ... 0 0 0]\n",
      "18 step\n",
      "nan\n",
      "Accuracy: 0.7721\n",
      "Y_pred: [1 1 1 ... 1 1 1]\n",
      "19 step\n",
      "nan\n",
      "Accuracy: 0.7721\n",
      "Y_pred: [0 0 0 ... 0 0 0]\n",
      "20 step\n",
      "nan\n",
      "Accuracy: 0.7721\n",
      "Y_pred: [0 0 0 ... 0 0 0]\n",
      "21 step\n",
      "nan\n",
      "Accuracy: 0.7721\n",
      "Y_pred: [0 0 0 ... 0 0 0]\n",
      "22 step\n",
      "nan\n",
      "Accuracy: 0.2279\n",
      "Y_pred: [1 0 0 ... 1 1 0]\n",
      "23 step\n",
      "nan\n",
      "Accuracy: 0.7721\n",
      "Y_pred: [0 0 0 ... 0 0 0]\n",
      "24 step\n",
      "nan\n",
      "Accuracy: 0.7721\n",
      "Y_pred: [0 0 0 ... 0 0 0]\n",
      "25 step\n",
      "nan\n",
      "Accuracy: 0.7721\n",
      "Y_pred: [0 0 0 ... 0 0 0]\n",
      "26 step\n",
      "nan\n",
      "Accuracy: 0.7721\n",
      "Y_pred: [1 1 1 ... 1 1 1]\n",
      "27 step\n",
      "nan\n",
      "Accuracy: 0.7721\n",
      "Y_pred: [0 0 0 ... 0 0 0]\n",
      "28 step\n",
      "nan\n",
      "Accuracy: 0.7721\n",
      "Y_pred: [0 0 0 ... 0 0 0]\n",
      "29 step\n",
      "nan\n",
      "Accuracy: 0.7721\n",
      "Y_pred: [0 0 0 ... 0 0 0]\n",
      "30 step\n",
      "nan\n",
      "Accuracy: 0.2279\n",
      "Y_pred: [1 1 1 ... 1 1 1]\n",
      "31 step\n",
      "nan\n",
      "Accuracy: 0.7721\n",
      "Y_pred: [0 0 0 ... 0 0 0]\n",
      "32 step\n",
      "nan\n",
      "Accuracy: 0.7721\n",
      "Y_pred: [0 0 0 ... 0 0 0]\n",
      "33 step\n",
      "nan\n",
      "Accuracy: 0.7721\n",
      "Y_pred: [0 0 0 ... 0 0 0]\n",
      "34 step\n",
      "nan\n",
      "Accuracy: 0.7721\n",
      "Y_pred: [0 0 0 ... 0 0 0]\n",
      "35 step\n",
      "nan\n",
      "Accuracy: 0.2279\n",
      "Y_pred: [1 1 1 ... 1 1 1]\n",
      "36 step\n",
      "nan\n",
      "Accuracy: 0.7721\n",
      "Y_pred: [0 0 0 ... 0 0 0]\n",
      "37 step\n",
      "nan\n",
      "Accuracy: 0.7721\n",
      "Y_pred: [0 0 0 ... 0 0 0]\n",
      "38 step\n",
      "nan\n",
      "Accuracy: 0.7721\n",
      "Y_pred: [0 0 0 ... 0 0 0]\n",
      "39 step\n",
      "nan\n",
      "Accuracy: 0.2279\n",
      "Y_pred: [0 1 1 ... 1 0 1]\n",
      "40 step\n",
      "nan\n",
      "Accuracy: 0.7721\n",
      "Y_pred: [0 0 0 ... 0 0 0]\n",
      "41 step\n",
      "nan\n",
      "Accuracy: 0.7721\n",
      "Y_pred: [0 0 0 ... 0 0 0]\n",
      "42 step\n",
      "nan\n",
      "Accuracy: 0.7721\n",
      "Y_pred: [0 0 0 ... 0 0 0]\n",
      "43 step\n",
      "nan\n",
      "Accuracy: 0.7721\n",
      "Y_pred: [0 0 0 ... 0 0 0]\n",
      "44 step\n",
      "nan\n",
      "Accuracy: 0.2279\n",
      "Y_pred: [1 1 1 ... 1 1 1]\n",
      "45 step\n",
      "nan\n",
      "Accuracy: 0.7721\n",
      "Y_pred: [0 0 0 ... 0 0 0]\n",
      "46 step\n",
      "nan\n",
      "Accuracy: 0.7721\n",
      "Y_pred: [0 0 0 ... 0 0 0]\n",
      "47 step\n",
      "nan\n",
      "Accuracy: 0.7721\n",
      "Y_pred: [0 0 0 ... 0 0 0]\n",
      "48 step\n",
      "nan\n",
      "Accuracy: 0.2279\n",
      "Y_pred: [1 1 1 ... 1 1 1]\n",
      "49 step\n",
      "nan\n",
      "Accuracy: 0.7721\n",
      "Y_pred: [0 0 0 ... 0 0 0]\n",
      "50 step\n",
      "nan\n",
      "Accuracy: 0.7721\n",
      "Y_pred: [0 0 0 ... 0 0 0]\n",
      "51 step\n",
      "nan\n",
      "Accuracy: 0.7721\n",
      "Y_pred: [0 0 0 ... 0 0 0]\n",
      "52 step\n",
      "nan\n",
      "Accuracy: 0.7721\n",
      "Y_pred: [0 0 0 ... 0 0 0]\n",
      "53 step\n",
      "nan\n",
      "Accuracy: 0.2279\n",
      "Y_pred: [1 1 1 ... 1 1 1]\n",
      "54 step\n",
      "nan\n",
      "Accuracy: 0.7721\n",
      "Y_pred: [0 0 0 ... 0 0 0]\n",
      "55 step\n",
      "nan\n",
      "Accuracy: 0.7721\n",
      "Y_pred: [0 0 0 ... 0 0 0]\n",
      "56 step\n",
      "nan\n",
      "Accuracy: 0.7721\n",
      "Y_pred: [0 0 0 ... 0 0 0]\n",
      "57 step\n",
      "nan\n",
      "Accuracy: 0.2279\n",
      "Y_pred: [0 1 1 ... 1 0 0]\n",
      "58 step\n",
      "nan\n",
      "Accuracy: 0.7721\n",
      "Y_pred: [0 0 0 ... 0 0 0]\n",
      "59 step\n",
      "nan\n",
      "Accuracy: 0.7721\n",
      "Y_pred: [0 0 0 ... 0 0 0]\n",
      "60 step\n",
      "nan\n",
      "Accuracy: 0.7721\n",
      "Y_pred: [0 0 0 ... 0 0 0]\n",
      "61 step\n",
      "nan\n",
      "Accuracy: 0.2279\n",
      "Y_pred: [1 1 1 ... 1 1 1]\n",
      "62 step\n",
      "nan\n",
      "Accuracy: 0.7721\n",
      "Y_pred: [0 0 0 ... 0 0 0]\n",
      "63 step\n",
      "nan\n",
      "Accuracy: 0.7721\n",
      "Y_pred: [0 0 0 ... 0 0 0]\n",
      "64 step\n",
      "nan\n",
      "Accuracy: 0.7721\n",
      "Y_pred: [0 0 0 ... 0 0 0]\n",
      "65 step\n",
      "nan\n",
      "Accuracy: 0.7721\n",
      "Y_pred: [0 0 0 ... 0 0 0]\n",
      "66 step\n",
      "nan\n",
      "Accuracy: 0.2279\n",
      "Y_pred: [1 1 1 ... 1 1 1]\n",
      "67 step\n",
      "nan\n",
      "Accuracy: 0.7721\n",
      "Y_pred: [0 0 0 ... 0 0 0]\n",
      "68 step\n",
      "nan\n",
      "Accuracy: 0.7721\n",
      "Y_pred: [0 0 0 ... 0 0 0]\n",
      "69 step\n",
      "nan\n",
      "Accuracy: 0.7721\n",
      "Y_pred: [0 0 0 ... 0 0 0]\n",
      "70 step\n",
      "nan\n",
      "Accuracy: 0.2279\n",
      "Y_pred: [0 1 1 ... 1 0 0]\n",
      "71 step\n",
      "nan\n",
      "Accuracy: 0.7721\n",
      "Y_pred: [0 0 0 ... 0 0 0]\n",
      "72 step\n",
      "nan\n",
      "Accuracy: 0.7721\n",
      "Y_pred: [0 0 0 ... 0 0 0]\n",
      "73 step\n",
      "nan\n",
      "Accuracy: 0.7721\n",
      "Y_pred: [0 0 0 ... 0 0 0]\n",
      "74 step\n",
      "nan\n",
      "Accuracy: 0.2279\n",
      "Y_pred: [1 1 1 ... 1 1 1]\n",
      "75 step\n",
      "nan\n",
      "Accuracy: 0.7721\n",
      "Y_pred: [0 0 0 ... 0 0 0]\n",
      "76 step\n",
      "nan\n",
      "Accuracy: 0.7721\n",
      "Y_pred: [0 0 0 ... 0 0 0]\n",
      "77 step\n",
      "nan\n",
      "Accuracy: 0.7721\n",
      "Y_pred: [0 0 0 ... 0 0 0]\n",
      "78 step\n",
      "nan\n",
      "Accuracy: 0.7721\n",
      "Y_pred: [0 0 0 ... 0 0 0]\n",
      "79 step\n",
      "nan\n",
      "Accuracy: 0.7721\n",
      "Y_pred: [1 1 1 ... 1 1 1]\n",
      "80 step\n",
      "nan\n",
      "Accuracy: 0.7721\n",
      "Y_pred: [0 0 0 ... 0 0 0]\n",
      "81 step\n",
      "nan\n",
      "Accuracy: 0.7721\n",
      "Y_pred: [0 0 0 ... 0 0 0]\n",
      "82 step\n",
      "nan\n",
      "Accuracy: 0.7721\n",
      "Y_pred: [0 0 0 ... 0 0 0]\n",
      "83 step\n",
      "nan\n",
      "Accuracy: 0.2279\n",
      "Y_pred: [0 1 1 ... 1 0 0]\n",
      "84 step\n",
      "nan\n",
      "Accuracy: 0.7721\n",
      "Y_pred: [0 0 0 ... 0 0 0]\n",
      "85 step\n",
      "nan\n",
      "Accuracy: 0.7721\n",
      "Y_pred: [0 0 0 ... 0 0 0]\n",
      "86 step\n",
      "nan\n",
      "Accuracy: 0.7721\n",
      "Y_pred: [0 0 0 ... 0 0 0]\n",
      "87 step\n",
      "nan\n",
      "Accuracy: 0.2279\n",
      "Y_pred: [1 1 1 ... 0 1 0]\n",
      "88 step\n",
      "nan\n",
      "Accuracy: 0.7721\n",
      "Y_pred: [0 0 0 ... 0 0 0]\n",
      "89 step\n",
      "nan\n",
      "Accuracy: 0.7721\n",
      "Y_pred: [0 0 0 ... 0 0 0]\n",
      "90 step\n",
      "nan\n",
      "Accuracy: 0.7721\n",
      "Y_pred: [0 0 0 ... 0 0 0]\n",
      "91 step\n",
      "nan\n",
      "Accuracy: 0.7721\n",
      "Y_pred: [0 0 0 ... 0 0 0]\n",
      "92 step\n",
      "nan\n",
      "Accuracy: 0.2279\n",
      "Y_pred: [1 1 1 ... 1 1 1]\n",
      "93 step\n",
      "nan\n",
      "Accuracy: 0.7721\n",
      "Y_pred: [0 0 0 ... 0 0 0]\n",
      "94 step\n",
      "nan\n",
      "Accuracy: 0.7721\n",
      "Y_pred: [0 0 0 ... 0 0 0]\n",
      "95 step\n",
      "nan\n",
      "Accuracy: 0.7721\n",
      "Y_pred: [0 0 0 ... 0 0 0]\n",
      "96 step\n",
      "nan\n",
      "Accuracy: 0.2279\n",
      "Y_pred: [0 1 0 ... 1 0 0]\n",
      "97 step\n",
      "nan\n",
      "Accuracy: 0.2279\n",
      "Y_pred: [1 1 1 ... 1 1 1]\n",
      "98 step\n",
      "nan\n",
      "Accuracy: 0.7721\n",
      "Y_pred: [0 0 0 ... 0 0 0]\n",
      "99 step\n",
      "nan\n",
      "Accuracy: 0.7721\n",
      "Y_pred: [0 0 0 ... 0 0 0]\n",
      "[7.60235790e-086 1.98148878e-167 0.00000000e+000 ... 1.28678196e-195\n",
      " 2.74246237e-126 3.64967361e-196]\n"
     ]
    }
   ],
   "source": [
    "for i in range(NUM_ITERATIONS):\n",
    "    print('{} step'.format(i))\n",
    "    print(cost_function(W, X, b, Y))\n",
    "    W = W - LEARNING_RATE * cost_function_derivative_w(W, X, b, Y)\n",
    "    b = b - LEARNING_RATE * cost_function_derivative_b(W, X, b, Y)\n",
    "    Y_pred = np.array([1 if sigmoid(net_input(W, x, b)) > 0.5 else 0 for x in X])\n",
    "    print('Accuracy: {}'.format(accuracy(Y_pred[i], Y)))\n",
    "    print ('Y_pred: {}'.format(Y_pred))\n",
    "    \n",
    "print(sigmoid(net_input(W, X, b)))"
   ]
  },
  {
   "cell_type": "code",
   "execution_count": 82,
   "metadata": {},
   "outputs": [
    {
     "name": "stdout",
     "output_type": "stream",
     "text": [
      "[[-2.69420812e-02 -2.37409772e-02 -2.45645542e-02 -2.14736339e-02\n",
      "  -2.05568753e-02 -1.94627968e-02  1.46445696e-05  1.46682083e-05\n",
      "   1.31193609e-05  1.15529110e-05  1.07862660e-05  9.71194898e-06\n",
      "  -9.22538240e-07  8.20356909e-07]] [[3.20665165e-07]]\n"
     ]
    }
   ],
   "source": [
    "print(W, b)"
   ]
  },
  {
   "cell_type": "code",
   "execution_count": 99,
   "metadata": {},
   "outputs": [
    {
     "data": {
      "text/plain": [
       "685"
      ]
     },
     "execution_count": 99,
     "metadata": {},
     "output_type": "execute_result"
    }
   ],
   "source": [
    "sum(Y_pred ==1)"
   ]
  },
  {
   "cell_type": "code",
   "execution_count": 100,
   "metadata": {},
   "outputs": [
    {
     "data": {
      "text/plain": [
       "20000"
      ]
     },
     "execution_count": 100,
     "metadata": {},
     "output_type": "execute_result"
    }
   ],
   "source": [
    "len(Y_pred)"
   ]
  },
  {
   "cell_type": "code",
   "execution_count": null,
   "metadata": {},
   "outputs": [],
   "source": []
  }
 ],
 "metadata": {
  "kernelspec": {
   "display_name": "Python 3",
   "language": "python",
   "name": "python3"
  },
  "language_info": {
   "codemirror_mode": {
    "name": "ipython",
    "version": 3
   },
   "file_extension": ".py",
   "mimetype": "text/x-python",
   "name": "python",
   "nbconvert_exporter": "python",
   "pygments_lexer": "ipython3",
   "version": "3.8.3"
  }
 },
 "nbformat": 4,
 "nbformat_minor": 4
}
