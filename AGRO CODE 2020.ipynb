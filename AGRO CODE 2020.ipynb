{
 "cells": [
  {
   "cell_type": "markdown",
   "metadata": {},
   "source": [
    "# Определение наименования произростающей с/х культуры "
   ]
  },
  {
   "cell_type": "markdown",
   "metadata": {},
   "source": [
    "## Определить сельскохозяйственную культуру по ежедневным значениям нормализованного индекса вегетации."
   ]
  },
  {
   "cell_type": "code",
   "execution_count": 602,
   "metadata": {},
   "outputs": [],
   "source": [
    "import pandas as pd\n",
    "import numpy as np\n",
    "from sklearn.ensemble import RandomForestClassifier\n",
    "from sklearn.metrics import f1_score, classification_report\n",
    "from sklearn.model_selection import train_test_split\n",
    "from sklearn.impute import KNNImputer"
   ]
  },
  {
   "cell_type": "code",
   "execution_count": 603,
   "metadata": {},
   "outputs": [],
   "source": [
    "train = pd.read_csv('train.csv')\n",
    "test = pd.read_csv('test.csv')"
   ]
  },
  {
   "cell_type": "code",
   "execution_count": 604,
   "metadata": {},
   "outputs": [],
   "source": [
    "x_train = train.drop('Culture', axis=1)\n",
    "y_train = train['Culture']\n",
    "x_test = test"
   ]
  },
  {
   "cell_type": "code",
   "execution_count": 605,
   "metadata": {
    "scrolled": true
   },
   "outputs": [
    {
     "name": "stdout",
     "output_type": "stream",
     "text": [
      "Day 289\n"
     ]
    }
   ],
   "source": [
    "for i in range (350):\n",
    "    day1 = 'Day ' + str(1+i)\n",
    "    if x_train[day1].isna().sum() != 0: \n",
    "        print(day1)\n",
    "        break"
   ]
  },
  {
   "cell_type": "code",
   "execution_count": 606,
   "metadata": {},
   "outputs": [],
   "source": [
    "a =  289\n",
    "b = 366 - a \n",
    "for i in range (b):\n",
    "    arg = 'Day ' + str(a+i)\n",
    "    x_test = x_test.drop(arg, axis=1)\n",
    "     x_train = x_train.drop(arg, axis=1)  "
   ]
  },
  {
   "cell_type": "code",
   "execution_count": 607,
   "metadata": {},
   "outputs": [],
   "source": [
    "x_train = x_train.drop('Field ID', axis=1)\n",
    "x_test = x_test.drop('Field ID', axis=1)"
   ]
  },
  {
   "cell_type": "code",
   "execution_count": 608,
   "metadata": {},
   "outputs": [],
   "source": [
    "imputer = KNNImputer(n_neighbors=25, weights=\"distance\")\n",
    "x_train = imputer.fit_transform(x_train)\n",
    "x_test = imputer.transform(x_test)"
   ]
  },
  {
   "cell_type": "code",
   "execution_count": 609,
   "metadata": {
    "scrolled": true
   },
   "outputs": [],
   "source": [
    "X_tt, X_tv, y_tt, y_tv = train_test_split(x_train, y_train, test_size=0.10, random_state=0)"
   ]
  },
  {
   "cell_type": "code",
   "execution_count": 610,
   "metadata": {},
   "outputs": [
    {
     "name": "stdout",
     "output_type": "stream",
     "text": [
      "0.9219735233208576\n"
     ]
    }
   ],
   "source": [
    "clf = RandomForestClassifier(n_estimators = 1320, max_depth = 20, random_state=1)\n",
    "clf.fit(X_tt, y_tt)\n",
    "preds_valid = clf.predict(X_tv)\n",
    "print(f1_score(y_tv, preds_valid, average='weighted'))"
   ]
  },
  {
   "cell_type": "code",
   "execution_count": 611,
   "metadata": {
    "scrolled": true
   },
   "outputs": [],
   "source": [
    "preds = clf.predict(x_test)\n",
    "pd.Series(preds).to_csv('preds.csv', index=False, header=['Culture'])"
   ]
  }
 ],
 "metadata": {
  "kernelspec": {
   "display_name": "Python 3",
   "language": "python",
   "name": "python3"
  },
  "language_info": {
   "codemirror_mode": {
    "name": "ipython",
    "version": 3
   },
   "file_extension": ".py",
   "mimetype": "text/x-python",
   "name": "python",
   "nbconvert_exporter": "python",
   "pygments_lexer": "ipython3",
   "version": "3.8.5"
  }
 },
 "nbformat": 4,
 "nbformat_minor": 4
}
