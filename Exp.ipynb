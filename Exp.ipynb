{
 "cells": [
  {
   "cell_type": "markdown",
   "metadata": {},
   "source": [
    "# Обработка результатов измерения при построении ударной адиабаты"
   ]
  },
  {
   "cell_type": "code",
   "execution_count": 79,
   "metadata": {},
   "outputs": [],
   "source": [
    "import pandas as pd\n",
    "import numpy as np\n",
    "import matplotlib.pyplot as plt\n",
    "from sklearn.linear_model import LinearRegression\n",
    "import math"
   ]
  },
  {
   "cell_type": "code",
   "execution_count": 80,
   "metadata": {},
   "outputs": [],
   "source": [
    "up = [\n",
    "      [1, 1.200],\n",
    "      [2, 2.300],\n",
    "      [3, 3.200],\n",
    "      [4, 3.300],\n",
    "      [5, 3.400],\n",
    "      [6, 3.600],\n",
    "      [7, 4.150], \n",
    "      [8, 4.500],\n",
    "      [9, 4.750],\n",
    "      [10, 4.750],\n",
    "      [11, 5.100],\n",
    "      [12, 5.500],\n",
    "      [13, 5.500],\n",
    "      [14, 5.600],\n",
    "      [15, 5.650],\n",
    "      [16, 5.900],\n",
    "      [17, 6.100],\n",
    "      [18, 6.150],\n",
    "      [19, 6.100],\n",
    "      [20, 6.150],\n",
    "      [21, 6.250],\n",
    "      [22, 6.450],\n",
    "      [23, 6.500],\n",
    "      [24, 6.600],\n",
    "      [25, 6.750],\n",
    "      [26, 6.900],\n",
    "      [27, 6.900],\n",
    "      [28, 7.100],\n",
    "      [29, 7.200]\n",
    "     ]\n",
    "us = [\n",
    "      [1, 1.900],\n",
    "      [2, 2.950],\n",
    "      [3, 4.050],\n",
    "      [4, 4.400],\n",
    "      [5, 4.200],\n",
    "      [6, 4.800],\n",
    "      [7, 6.100],\n",
    "      [8, 6.500],\n",
    "      [9, 6.100],\n",
    "      [10, 6.450],\n",
    "      [11, 7.100],\n",
    "      [12, 6.750],\n",
    "      [13, 7.500],\n",
    "      [14, 7.850],\n",
    "      [15, 8.750],\n",
    "      [16, 7.600],\n",
    "      [17, 7.550],\n",
    "      [18, 7.850],\n",
    "      [19, 8.300],\n",
    "      [20, 8.950],\n",
    "      [21, 8.250],\n",
    "      [22, 8.300],\n",
    "      [23, 8.300],\n",
    "      [24, 9.100], \n",
    "      [25, 8.200],\n",
    "      [26, 8.100],\n",
    "      [27, 10.100],\n",
    "      [28, 10.400],\n",
    "      [29, 10.100]\n",
    "     ]\n",
    "for i in range(len(up)):\n",
    "    up[i][1] *=1000\n",
    "    us[i][1] *=1000"
   ]
  },
  {
   "cell_type": "markdown",
   "metadata": {},
   "source": [
    "# Представим точки в виде таблицы"
   ]
  },
  {
   "cell_type": "code",
   "execution_count": 81,
   "metadata": {},
   "outputs": [],
   "source": [
    "Up = pd.DataFrame(up, columns=[ 'id', 'Up'])\n",
    "Us = pd.DataFrame(us, columns=[ 'id', 'Us'])\n",
    "Up= Up.merge(Us, on='id')\n",
    "del Up['id']"
   ]
  },
  {
   "cell_type": "code",
   "execution_count": 82,
   "metadata": {},
   "outputs": [
    {
     "data": {
      "text/html": [
       "<div>\n",
       "<style scoped>\n",
       "    .dataframe tbody tr th:only-of-type {\n",
       "        vertical-align: middle;\n",
       "    }\n",
       "\n",
       "    .dataframe tbody tr th {\n",
       "        vertical-align: top;\n",
       "    }\n",
       "\n",
       "    .dataframe thead th {\n",
       "        text-align: right;\n",
       "    }\n",
       "</style>\n",
       "<table border=\"1\" class=\"dataframe\">\n",
       "  <thead>\n",
       "    <tr style=\"text-align: right;\">\n",
       "      <th></th>\n",
       "      <th>0</th>\n",
       "      <th>1</th>\n",
       "      <th>2</th>\n",
       "      <th>3</th>\n",
       "      <th>4</th>\n",
       "      <th>5</th>\n",
       "      <th>6</th>\n",
       "      <th>7</th>\n",
       "      <th>8</th>\n",
       "      <th>9</th>\n",
       "      <th>10</th>\n",
       "      <th>11</th>\n",
       "      <th>12</th>\n",
       "      <th>13</th>\n",
       "      <th>14</th>\n",
       "    </tr>\n",
       "  </thead>\n",
       "  <tbody>\n",
       "    <tr>\n",
       "      <th>Up</th>\n",
       "      <td>1200.0</td>\n",
       "      <td>2300.0</td>\n",
       "      <td>3200.0</td>\n",
       "      <td>3300.0</td>\n",
       "      <td>3400.0</td>\n",
       "      <td>3600.0</td>\n",
       "      <td>4150.0</td>\n",
       "      <td>4500.0</td>\n",
       "      <td>4750.0</td>\n",
       "      <td>4750.0</td>\n",
       "      <td>5100.0</td>\n",
       "      <td>5500.0</td>\n",
       "      <td>5500.0</td>\n",
       "      <td>5600.0</td>\n",
       "      <td>5650.0</td>\n",
       "    </tr>\n",
       "    <tr>\n",
       "      <th>Us</th>\n",
       "      <td>1900.0</td>\n",
       "      <td>2950.0</td>\n",
       "      <td>4050.0</td>\n",
       "      <td>4400.0</td>\n",
       "      <td>4200.0</td>\n",
       "      <td>4800.0</td>\n",
       "      <td>6100.0</td>\n",
       "      <td>6500.0</td>\n",
       "      <td>6100.0</td>\n",
       "      <td>6450.0</td>\n",
       "      <td>7100.0</td>\n",
       "      <td>6750.0</td>\n",
       "      <td>7500.0</td>\n",
       "      <td>7850.0</td>\n",
       "      <td>8750.0</td>\n",
       "    </tr>\n",
       "  </tbody>\n",
       "</table>\n",
       "</div>"
      ],
      "text/plain": [
       "        0       1       2       3       4       5       6       7       8   \\\n",
       "Up  1200.0  2300.0  3200.0  3300.0  3400.0  3600.0  4150.0  4500.0  4750.0   \n",
       "Us  1900.0  2950.0  4050.0  4400.0  4200.0  4800.0  6100.0  6500.0  6100.0   \n",
       "\n",
       "        9       10      11      12      13      14  \n",
       "Up  4750.0  5100.0  5500.0  5500.0  5600.0  5650.0  \n",
       "Us  6450.0  7100.0  6750.0  7500.0  7850.0  8750.0  "
      ]
     },
     "execution_count": 82,
     "metadata": {},
     "output_type": "execute_result"
    }
   ],
   "source": [
    "Up[:15].T"
   ]
  },
  {
   "cell_type": "code",
   "execution_count": 83,
   "metadata": {
    "scrolled": true
   },
   "outputs": [
    {
     "data": {
      "text/html": [
       "<div>\n",
       "<style scoped>\n",
       "    .dataframe tbody tr th:only-of-type {\n",
       "        vertical-align: middle;\n",
       "    }\n",
       "\n",
       "    .dataframe tbody tr th {\n",
       "        vertical-align: top;\n",
       "    }\n",
       "\n",
       "    .dataframe thead th {\n",
       "        text-align: right;\n",
       "    }\n",
       "</style>\n",
       "<table border=\"1\" class=\"dataframe\">\n",
       "  <thead>\n",
       "    <tr style=\"text-align: right;\">\n",
       "      <th></th>\n",
       "      <th>15</th>\n",
       "      <th>16</th>\n",
       "      <th>17</th>\n",
       "      <th>18</th>\n",
       "      <th>19</th>\n",
       "      <th>20</th>\n",
       "      <th>21</th>\n",
       "      <th>22</th>\n",
       "      <th>23</th>\n",
       "      <th>24</th>\n",
       "      <th>25</th>\n",
       "      <th>26</th>\n",
       "      <th>27</th>\n",
       "      <th>28</th>\n",
       "    </tr>\n",
       "  </thead>\n",
       "  <tbody>\n",
       "    <tr>\n",
       "      <th>Up</th>\n",
       "      <td>5900.0</td>\n",
       "      <td>6100.0</td>\n",
       "      <td>6150.0</td>\n",
       "      <td>6100.0</td>\n",
       "      <td>6150.0</td>\n",
       "      <td>6250.0</td>\n",
       "      <td>6450.0</td>\n",
       "      <td>6500.0</td>\n",
       "      <td>6600.0</td>\n",
       "      <td>6750.0</td>\n",
       "      <td>6900.0</td>\n",
       "      <td>6900.0</td>\n",
       "      <td>7100.0</td>\n",
       "      <td>7200.0</td>\n",
       "    </tr>\n",
       "    <tr>\n",
       "      <th>Us</th>\n",
       "      <td>7600.0</td>\n",
       "      <td>7550.0</td>\n",
       "      <td>7850.0</td>\n",
       "      <td>8300.0</td>\n",
       "      <td>8950.0</td>\n",
       "      <td>8250.0</td>\n",
       "      <td>8300.0</td>\n",
       "      <td>8300.0</td>\n",
       "      <td>9100.0</td>\n",
       "      <td>8200.0</td>\n",
       "      <td>8100.0</td>\n",
       "      <td>10100.0</td>\n",
       "      <td>10400.0</td>\n",
       "      <td>10100.0</td>\n",
       "    </tr>\n",
       "  </tbody>\n",
       "</table>\n",
       "</div>"
      ],
      "text/plain": [
       "        15      16      17      18      19      20      21      22      23  \\\n",
       "Up  5900.0  6100.0  6150.0  6100.0  6150.0  6250.0  6450.0  6500.0  6600.0   \n",
       "Us  7600.0  7550.0  7850.0  8300.0  8950.0  8250.0  8300.0  8300.0  9100.0   \n",
       "\n",
       "        24      25       26       27       28  \n",
       "Up  6750.0  6900.0   6900.0   7100.0   7200.0  \n",
       "Us  8200.0  8100.0  10100.0  10400.0  10100.0  "
      ]
     },
     "execution_count": 83,
     "metadata": {},
     "output_type": "execute_result"
    }
   ],
   "source": [
    "Up[15:].T"
   ]
  },
  {
   "cell_type": "code",
   "execution_count": 84,
   "metadata": {},
   "outputs": [],
   "source": [
    "x = np.array(Up['Up'])#U\n",
    "y = np.array(Up['Us']) #D\n",
    "n = len(x)\n",
    "wi = 1\n",
    "ro = 0.123"
   ]
  },
  {
   "cell_type": "markdown",
   "metadata": {},
   "source": [
    "# Вычисление коэффициента корреляции"
   ]
  },
  {
   "cell_type": "markdown",
   "metadata": {},
   "source": [
    "# $Upsr = \\frac{\\sum{wi\\cdot Up}}{wi} $\n",
    "# $Ussr = \\frac{\\sum{wi\\cdot Us}}{wi} $"
   ]
  },
  {
   "cell_type": "code",
   "execution_count": 85,
   "metadata": {},
   "outputs": [
    {
     "name": "stdout",
     "output_type": "stream",
     "text": [
      " Upsr=  5294.827586206897 \n",
      " Ussr=  7120.689655172414\n"
     ]
    }
   ],
   "source": [
    "Upsr = wi*sum(x) / n\n",
    "Ussr = wi*sum(y) / n\n",
    "print(' Upsr= ', Upsr, '\\n', 'Ussr= ' , Ussr)"
   ]
  },
  {
   "cell_type": "markdown",
   "metadata": {},
   "source": [
    "# $Sw=\\sum{wi\\cdot(Upi-Upsr)^2}$\n",
    "# $Sw1=\\sum{wi\\cdot(Usi-Ussr)^2}$\n",
    "# $SP=\\sum{wi(Upi-Upsr)(Usi-Ussr)}$\n",
    "# Выборочный коэффициент корреляции:\n",
    "# $r=\\frac{SP}{\\sqrt{Sw\\cdot(Usi-Ussr)^2}}$"
   ]
  },
  {
   "cell_type": "code",
   "execution_count": 86,
   "metadata": {},
   "outputs": [
    {
     "name": "stdout",
     "output_type": "stream",
     "text": [
      " Sw=  66131724.13793105 \n",
      " SP=  88325603.44827586 \n",
      " Sw1= 126072586.20689654 \n",
      " r= 0.9673226558423361\n"
     ]
    }
   ],
   "source": [
    "Sw = 0\n",
    "for i in range (len(x)):\n",
    "    a = (x[i]-Upsr)**2\n",
    "    Sw += a\n",
    "    \n",
    "SP = 0\n",
    "for i in range (len(x)):\n",
    "    a = (x[i]-Upsr)*(y[i]-Ussr)\n",
    "    SP += a\n",
    "    \n",
    "Sw1 = 0\n",
    "for i in range (len(x)):\n",
    "    a = (y[i]-Ussr)**2\n",
    "    Sw1 += a\n",
    "\n",
    "r = SP/ math.sqrt(Sw*Sw1)\n",
    "\n",
    "print(' Sw= ', Sw, '\\n', 'SP= ' , SP,  '\\n','Sw1=', Sw1, '\\n', 'r=', r)"
   ]
  },
  {
   "cell_type": "markdown",
   "metadata": {},
   "source": [
    "# Оценка значимости коэффициента корреляции\n",
    "# $ t = \\frac{r\\cdot \\sqrt{n-2}}{\\sqrt{1-r^2}}$"
   ]
  },
  {
   "cell_type": "code",
   "execution_count": 87,
   "metadata": {},
   "outputs": [
    {
     "data": {
      "text/plain": [
       "19.824035599317373"
      ]
     },
     "execution_count": 87,
     "metadata": {},
     "output_type": "execute_result"
    }
   ],
   "source": [
    "t = r*math.sqrt(n-2)/math.sqrt(1-r**2)\n",
    "t"
   ]
  },
  {
   "cell_type": "markdown",
   "metadata": {},
   "source": [
    "# t = 19.82 > t(n-2, P=0.95) = 2.05 \n",
    "## А это означает, что нам не нужна выравнивающая замена переменных и можно переходить к описанию связи между X и Y линейной приближенной регрессией."
   ]
  },
  {
   "cell_type": "markdown",
   "metadata": {},
   "source": [
    "# Определение значений коэффициентов регресии."
   ]
  },
  {
   "cell_type": "markdown",
   "metadata": {},
   "source": [
    "# $ A1=\\frac{SP}{Sw}$\n",
    "# $ A0=Ussr-A1\\cdot Upsr $\n",
    "# Уравнение регрессии:\n",
    "# $ Us1(Up)=A0+A1 \\cdot Up $"
   ]
  },
  {
   "cell_type": "code",
   "execution_count": 88,
   "metadata": {},
   "outputs": [
    {
     "name": "stdout",
     "output_type": "stream",
     "text": [
      " A1=  1.3356010991646763 \n",
      " A0=  48.9121111470331\n"
     ]
    }
   ],
   "source": [
    "A1 = SP/Sw\n",
    "A0 = Ussr - A1*Upsr\n",
    "print(' A1= ', A1, '\\n', 'A0= ' , A0)"
   ]
  },
  {
   "cell_type": "markdown",
   "metadata": {},
   "source": [
    "# Построим график"
   ]
  },
  {
   "cell_type": "code",
   "execution_count": 89,
   "metadata": {},
   "outputs": [
    {
     "data": {
      "image/png": "[encoded data removed]",
      "text/plain": [
       "<Figure size 432x288 with 1 Axes>"
      ]
     },
     "metadata": {
      "needs_background": "light"
     },
     "output_type": "display_data"
    }
   ],
   "source": [
    "plt.plot(x, y, 'og')\n",
    "plt.plot(x, A0+A1*x, 'b')\n",
    "plt.grid()"
   ]
  },
  {
   "cell_type": "markdown",
   "metadata": {},
   "source": [
    "# Выполним проверку. Для этого воспользуемся моделью линейной регрессии из библиотеки sklearn"
   ]
  },
  {
   "cell_type": "code",
   "execution_count": 90,
   "metadata": {
    "scrolled": true
   },
   "outputs": [
    {
     "data": {
      "image/png": "[encoded data removed]",
      "text/plain": [
       "<Figure size 432x288 with 1 Axes>"
      ]
     },
     "metadata": {
      "needs_background": "light"
     },
     "output_type": "display_data"
    }
   ],
   "source": [
    "model = LinearRegression()\n",
    "model.fit(x.reshape(-1, 1), y.reshape(-1, 1))\n",
    "y_pred = model.predict(x.reshape(-1, 1))\n",
    "plt.plot(x, y, 'og')\n",
    "plt.plot(x, y_pred, '--')\n",
    "plt.grid()"
   ]
  },
  {
   "cell_type": "markdown",
   "metadata": {},
   "source": [
    "# Оценка зависимости коэффициентов регресии"
   ]
  },
  {
   "cell_type": "markdown",
   "metadata": {},
   "source": [
    "# $ di = Usi - A1 \\cdot Upi - A0 $\n",
    "# $ SA0=\\sqrt{(\\frac{Upsr^2}{Sw}+\\frac{1}{\\sum{wi}})\\cdot(\\frac{\\sum{wi\\cdot di^2}}{n-2})} $\n",
    "# $ SA1=\\sqrt{(\\frac{1}{Sw})\\cdot(\\frac{\\sum{wi\\cdot di^2}}{n-2})} $"
   ]
  },
  {
   "cell_type": "code",
   "execution_count": 91,
   "metadata": {},
   "outputs": [
    {
     "name": "stdout",
     "output_type": "stream",
     "text": [
      " SA0= 370.9520774675889 \n",
      " SA1= 0.06737281581610276\n"
     ]
    }
   ],
   "source": [
    "di = []\n",
    "for i in range (len(y)):\n",
    "    a = y[i]-A1*x[i]-A0\n",
    "    di.append(a)\n",
    "    \n",
    "di2 = 0\n",
    "for i in range (len(y)):\n",
    "    di2 += di[i]**2\n",
    "\n",
    "SA0 = math.sqrt((((Upsr**2)/Sw) + 1/n)*(di2/(n-2)))\n",
    "SA1 = math.sqrt((1/Sw)*(di2/(n-2)))\n",
    "print(' SA0=', SA0, '\\n', 'SA1=' , SA1)"
   ]
  },
  {
   "cell_type": "markdown",
   "metadata": {},
   "source": [
    "# $ t=\\frac{A0}{SA0}=19.82\\:\\:\\:\\:  19.82>2.05 $\n",
    "# $ t=\\frac{A1}{SA1}=0.13\\:\\:\\:\\:  0.13<2.05 $"
   ]
  },
  {
   "cell_type": "markdown",
   "metadata": {},
   "source": [
    "## Из данных соотношений можем сделать вывод, что коэффициент А0 имеет высокую статистическую значимость, а A1 - нет (это логично, так как угол наклона графика линейной регрессии близок к 45 градусам.)"
   ]
  },
  {
   "cell_type": "markdown",
   "metadata": {},
   "source": [
    "# Проверка гипотезы о том, что регрессия подсказывает зависимость точнее, чем среднее."
   ]
  },
  {
   "cell_type": "markdown",
   "metadata": {},
   "source": [
    "# $ \\frac{Sus^2}{Susust^2}=\\frac{\\sum{(Usi-Ussr)^2 \\cdot wi}}{\\sum{di^2 \\cdot wi}} \\cdot \\frac{n-2}{n-1}= 14.99$\n",
    "# $ F(n-1, n-2, P=0.95)=2.1<14.99$\n",
    "## А это означает, что по критерию Фишера регрессия дает большую точность, чем среднее значение, в 2.1 раза."
   ]
  },
  {
   "cell_type": "code",
   "execution_count": 92,
   "metadata": {
    "scrolled": true
   },
   "outputs": [
    {
     "data": {
      "text/plain": [
       "14.999728122964433"
      ]
     },
     "execution_count": 92,
     "metadata": {},
     "output_type": "execute_result"
    }
   ],
   "source": [
    "((n-2)*Sw1)/((n-1)*di2)"
   ]
  },
  {
   "cell_type": "markdown",
   "metadata": {},
   "source": [
    "# Нахождение границ доверительной области регресии"
   ]
  },
  {
   "cell_type": "markdown",
   "metadata": {},
   "source": [
    "# $Syregr(Up) = \\sqrt{\\frac{1}{n-2} \\cdot \\frac{\\sum wi \\cdot di^2}{\\sum{wi}} \\cdot [\\frac{1+(Upsr-Up)^2}{\\frac{Sw}{\\sum Wi}}]} $\n",
    "# $ yregr1(Up) = Us1(Up) + Syregr(Up) \\cdot t $\n",
    "# $ yregr2(Up) = Us2(Up) - Syregr(Up) \\cdot t $"
   ]
  },
  {
   "cell_type": "code",
   "execution_count": 93,
   "metadata": {},
   "outputs": [],
   "source": [
    "t = 2.05"
   ]
  },
  {
   "cell_type": "code",
   "execution_count": 94,
   "metadata": {},
   "outputs": [],
   "source": [
    "def Us1(Up):\n",
    "    return A0+A1*Up"
   ]
  },
  {
   "cell_type": "code",
   "execution_count": 95,
   "metadata": {},
   "outputs": [],
   "source": [
    "def Syregr(x1):\n",
    "    return ((1/(n-2))*(di2/n)*((1+(Upsr-x1)**2)/(Sw/n)))**0.5"
   ]
  },
  {
   "cell_type": "code",
   "execution_count": 96,
   "metadata": {},
   "outputs": [],
   "source": [
    "def Yregr1(x1):\n",
    "    return Us1(x1) + Syregr(x1)*t"
   ]
  },
  {
   "cell_type": "code",
   "execution_count": 97,
   "metadata": {},
   "outputs": [],
   "source": [
    "def Yregr2(x1):\n",
    "    return Us1(x1) - Syregr(x1)*t"
   ]
  },
  {
   "cell_type": "markdown",
   "metadata": {},
   "source": [
    "# Нахождение границ для облака точек\n",
    "# $Sy(Up) = \\sqrt{Syregr(Up)^2+\\frac{\\sum wi \\cdot di^2}{n-2}} $\n",
    "# $ y1(Up) = Usi(Up) + Sy(Up) \\cdot t $\n",
    "# $ y2(Up) = Usi(Up) - Sy(Up) \\cdot t $"
   ]
  },
  {
   "cell_type": "code",
   "execution_count": 98,
   "metadata": {},
   "outputs": [],
   "source": [
    "def Sy(x1):\n",
    "    return ((Syregr(x1)**2)+di2/n-2)**0.5"
   ]
  },
  {
   "cell_type": "code",
   "execution_count": 99,
   "metadata": {},
   "outputs": [],
   "source": [
    "def y1(x1):\n",
    "    return Us1(x1) + Sy(x1)*t"
   ]
  },
  {
   "cell_type": "code",
   "execution_count": 100,
   "metadata": {},
   "outputs": [],
   "source": [
    "def y2(x1):\n",
    "    return Us1(x1) - Sy(x1)*t"
   ]
  },
  {
   "cell_type": "code",
   "execution_count": 101,
   "metadata": {},
   "outputs": [],
   "source": [
    "x = x.astype(float)"
   ]
  },
  {
   "cell_type": "markdown",
   "metadata": {},
   "source": [
    "# Построим график"
   ]
  },
  {
   "cell_type": "code",
   "execution_count": 102,
   "metadata": {
    "scrolled": false
   },
   "outputs": [
    {
     "data": {
      "image/png": "[encoded data removed]",
      "text/plain": [
       "<Figure size 432x288 with 1 Axes>"
      ]
     },
     "metadata": {
      "needs_background": "light"
     },
     "output_type": "display_data"
    }
   ],
   "source": [
    "plt.plot(x, Us1(x), label = '$Us1(x)$')\n",
    "plt.plot(x, y1(x), label = '$y1(x)$', color = 'green')\n",
    "plt.plot(x, y2(x), label = '$y2(x)$', color = 'green')\n",
    "plt.plot(x, Yregr1(x), label = '$Yregr1(x)$', color = 'black')\n",
    "plt.plot(x, Yregr2(x), label = '$Yregr2(x)$', color = 'black')\n",
    "plt.plot(x, y, 'or')\n",
    "plt.grid()\n",
    "plt.legend()\n",
    "plt.xlabel('$U$', size = 13)\n",
    "plt.ylabel('$D$', size = 13)\n",
    "plt.savefig('graph1.png')"
   ]
  },
  {
   "cell_type": "markdown",
   "metadata": {},
   "source": [
    "# Перестроение ударной адиабаты в $p - \\rho $ координаты"
   ]
  },
  {
   "cell_type": "code",
   "execution_count": 103,
   "metadata": {},
   "outputs": [],
   "source": [
    "def pi(x):\n",
    "    return ro*x*(A0+A1*x)"
   ]
  },
  {
   "cell_type": "code",
   "execution_count": 104,
   "metadata": {},
   "outputs": [],
   "source": [
    "def roi(x):\n",
    "    return ro*(A0+A1*x)/(A0+(A1-1)*x)"
   ]
  },
  {
   "cell_type": "code",
   "execution_count": 105,
   "metadata": {},
   "outputs": [],
   "source": [
    "pi = []\n",
    "\n",
    "x = np.array(Up['Up'])\n",
    "\n",
    "for i in range(len(x)):\n",
    "    pi.append( ro*x[i]*(A0+A1*x[i]))\n",
    "    \n",
    "roi = []\n",
    "\n",
    "for i in range(len(x)):\n",
    "    roi.append( ro*(A0+A1*x[i])/(A0+(A1-1)*x)[i])"
   ]
  },
  {
   "cell_type": "code",
   "execution_count": 106,
   "metadata": {},
   "outputs": [
    {
     "name": "stdout",
     "output_type": "stream",
     "text": [
      " psr=  4637447.354340072 \n",
      " rosr=  0.4796883852691217\n"
     ]
    }
   ],
   "source": [
    "psr = ro*Upsr*(A0+A1*Upsr)\n",
    "rosr = ro * (A0+A1*Upsr)/(A0+(A1-1)*Upsr)\n",
    "print (' psr= ', psr, '\\n', \"rosr= \", rosr)"
   ]
  },
  {
   "cell_type": "code",
   "execution_count": 115,
   "metadata": {},
   "outputs": [],
   "source": [
    "t = 2.05\n",
    "sigy = 0.05*Upsr\n",
    "S1A0 = math.sqrt((SA0**2)*(t**2))\n",
    "S1A1 = math.sqrt((SA1**2)*(t**2))"
   ]
  },
  {
   "cell_type": "code",
   "execution_count": 116,
   "metadata": {},
   "outputs": [
    {
     "data": {
      "text/plain": [
       "1151712.6565995014"
      ]
     },
     "execution_count": 116,
     "metadata": {},
     "output_type": "execute_result"
    }
   ],
   "source": [
    "dp = math.sqrt(((ro*A0+2*ro*A1*Upsr)**2)*4*(sigy**2)+((ro*Upsr*S1A0)**2)+((ro*Upsr*Upsr*S1A1)**2))\n",
    "dp"
   ]
  },
  {
   "cell_type": "code",
   "execution_count": 117,
   "metadata": {},
   "outputs": [],
   "source": [
    "a = (((ro*A1/(A0+(A1-1*Upsr))) - ro*(A1-1)*(A0+A1*Upsr)/((A0+(A1-1*Upsr))**2))**2)*4*sigy*sigy\n",
    "b = (((ro/(A0+(A1-1*Upsr))) - ro*(A0+A1*Upsr)/((A0+(A1-1*Upsr))**2))**2)*S1A0*S1A0\n",
    "c = ((((ro*Upsr)/(A0+(A1-1*Upsr))) - ro*Upsr*(((A0+A1*Upsr)/((A0+(A1-1*Upsr))**2))**2))**2)*S1A1*S1A1\n",
    "dro = math.sqrt(a+b+c)"
   ]
  },
  {
   "cell_type": "code",
   "execution_count": 118,
   "metadata": {},
   "outputs": [],
   "source": [
    "dro = math.sqrt(a+b+c)/30"
   ]
  },
  {
   "cell_type": "markdown",
   "metadata": {},
   "source": [
    "# Построим график"
   ]
  },
  {
   "cell_type": "code",
   "execution_count": 119,
   "metadata": {
    "scrolled": true
   },
   "outputs": [
    {
     "data": {
      "image/png": "[encoded data removed]",
      "text/plain": [
       "<Figure size 432x288 with 1 Axes>"
      ]
     },
     "metadata": {
      "needs_background": "light"
     },
     "output_type": "display_data"
    }
   ],
   "source": [
    "plt.plot(roi, pi)\n",
    "plt.xlabel(r'$\\rho$', size = 13)\n",
    "plt.ylabel('$p$', size = 13)\n",
    "plt.plot(rosr, psr, 'or')\n",
    "plt.vlines(rosr, psr-dp, psr+dp, color='b', linestyles={'dashed'})\n",
    "#plt.hlines(psr, rosr-dro, rosr+dro, color='b', linestyles={'dashed'})\n",
    "plt.text(0.45, 7000000, 'P=0.95', size = 15)\n",
    "plt.grid()"
   ]
  }
 ],
 "metadata": {
  "kernelspec": {
   "display_name": "Python 3",
   "language": "python",
   "name": "python3"
  },
  "language_info": {
   "codemirror_mode": {
    "name": "ipython",
    "version": 3
   },
   "file_extension": ".py",
   "mimetype": "text/x-python",
   "name": "python",
   "nbconvert_exporter": "python",
   "pygments_lexer": "ipython3",
   "version": "3.8.5"
  }
 },
 "nbformat": 4,
 "nbformat_minor": 4
}
